{
 "cells": [
  {
   "cell_type": "markdown",
   "metadata": {},
   "source": [
    "# oxford_flowers102 with resnet and SGD"
   ]
  },
  {
   "cell_type": "markdown",
   "metadata": {},
   "source": [
    "## 1) Importing the libraries"
   ]
  },
  {
   "cell_type": "code",
   "execution_count": 1,
   "metadata": {},
   "outputs": [],
   "source": [
    "import matplotlib.pyplot as plt\n",
    "import numpy as np\n",
    "import tensorflow as tf\n",
    "import json\n",
    "import tensorflow_hub as hub\n",
    "import tensorflow_datasets as tfds\n",
    "tfds.disable_progress_bar()"
   ]
  },
  {
   "cell_type": "markdown",
   "metadata": {},
   "source": [
    "## 2) Loading and summarizing data and creating data pipelines"
   ]
  },
  {
   "cell_type": "code",
   "execution_count": 2,
   "metadata": {},
   "outputs": [],
   "source": [
    "data, dataset_info = tfds.load('oxford_flowers102', split='train+test+validation', as_supervised = True, with_info = True)\n",
    "datalen = [i for i,_ in enumerate(data)][-1] + 1\n",
    "datalen\n",
    "\n",
    "train_split = int(0.6*datalen)\n",
    "test_val_split = int(0.2*datalen)\n",
    "test_val_split = int(0.2*datalen)\n",
    "\n",
    "training_set = data.take(train_split)\n",
    "test_set = data.skip(train_split)\n",
    "validation_set = test_set.skip(test_val_split)\n",
    "test_set = test_set.take(test_val_split)\n",
    "\n",
    "dataset=training_set,validation_set,test_set"
   ]
  },
  {
   "cell_type": "code",
   "execution_count": 3,
   "metadata": {},
   "outputs": [
    {
     "data": {
      "text/plain": [
       "tfds.core.DatasetInfo(\n",
       "    name='oxford_flowers102',\n",
       "    version=2.1.1,\n",
       "    description='The Oxford Flowers 102 dataset is a consistent of 102 flower categories commonly occurring\n",
       "in the United Kingdom. Each class consists of between 40 and 258 images. The images have\n",
       "large scale, pose and light variations. In addition, there are categories that have large\n",
       "variations within the category and several very similar categories.\n",
       "\n",
       "The dataset is divided into a training set, a validation set and a test set.\n",
       "The training set and validation set each consist of 10 images per class (totalling 1020 images each).\n",
       "The test set consists of the remaining 6149 images (minimum 20 per class).',\n",
       "    homepage='https://www.robots.ox.ac.uk/~vgg/data/flowers/102/',\n",
       "    features=FeaturesDict({\n",
       "        'file_name': Text(shape=(), dtype=tf.string),\n",
       "        'image': Image(shape=(None, None, 3), dtype=tf.uint8),\n",
       "        'label': ClassLabel(shape=(), dtype=tf.int64, num_classes=102),\n",
       "    }),\n",
       "    total_num_examples=8189,\n",
       "    splits={\n",
       "        'test': 6149,\n",
       "        'train': 1020,\n",
       "        'validation': 1020,\n",
       "    },\n",
       "    supervised_keys=('image', 'label'),\n",
       "    citation=\"\"\"@InProceedings{Nilsback08,\n",
       "       author = \"Nilsback, M-E. and Zisserman, A.\",\n",
       "       title = \"Automated Flower Classification over a Large Number of Classes\",\n",
       "       booktitle = \"Proceedings of the Indian Conference on Computer Vision, Graphics and Image Processing\",\n",
       "       year = \"2008\",\n",
       "       month = \"Dec\"\n",
       "    }\"\"\",\n",
       "    redistribution_info=,\n",
       ")"
      ]
     },
     "execution_count": 3,
     "metadata": {},
     "output_type": "execute_result"
    }
   ],
   "source": [
    "dataset_info"
   ]
  },
  {
   "cell_type": "markdown",
   "metadata": {},
   "source": [
    "### From the above datset_info we can see that the data is split into train, test and validation batches and each image has features like filename, label and image itself(255 pixels) which can be harnessed whenever needed"
   ]
  },
  {
   "cell_type": "code",
   "execution_count": 4,
   "metadata": {},
   "outputs": [
    {
     "name": "stdout",
     "output_type": "stream",
     "text": [
      "There are 4,913 images in the training set\n",
      "There are 1,637 images in the validation set\n",
      "There are 1,637 images in the test set\n",
      "There are 102 classes in our dataset\n"
     ]
    }
   ],
   "source": [
    "total_examples = dataset_info.splits['train'].num_examples + dataset_info.splits['test'].num_examples + dataset_info.splits['validation'].num_examples\n",
    "\n",
    "num_training_examples = train_split\n",
    "num_validation_examples = test_val_split\n",
    "num_test_examples = num_validation_examples\n",
    "\n",
    "print('There are {:,} images in the training set'.format(num_training_examples))\n",
    "print('There are {:,} images in the validation set'.format(num_validation_examples))\n",
    "print('There are {:,} images in the test set'.format(num_test_examples))\n",
    "\n",
    "num_classes = dataset_info.features['label'].num_classes\n",
    "print('There are {:,} classes in our dataset'.format(num_classes))"
   ]
  },
  {
   "cell_type": "code",
   "execution_count": 5,
   "metadata": {},
   "outputs": [],
   "source": [
    "with open('label_map.json', 'r') as f:\n",
    "    class_names = json.load(f)"
   ]
  },
  {
   "cell_type": "code",
   "execution_count": 6,
   "metadata": {},
   "outputs": [],
   "source": [
    "def resize(image, label):\n",
    "    image = tf.cast(image, tf.float32)\n",
    "    image = tf.image.resize(image, [224,224], preserve_aspect_ratio=False)\n",
    "    image /= 255\n",
    "    return image, label\n",
    "\n",
    "batch_size = 32\n",
    "image_size = 224\n",
    "\n",
    "training_batches = training_set.cache().shuffle(num_training_examples//4).map(resize).batch(batch_size).prefetch(1)\n",
    "validation_batches = validation_set.cache().map(resize).batch(batch_size).prefetch(1)\n",
    "testing_batches = test_set.cache().map(resize).batch(batch_size).prefetch(1)"
   ]
  },
  {
   "cell_type": "markdown",
   "metadata": {},
   "source": [
    "## 3) Creating models, plots and test data evaluation"
   ]
  },
  {
   "cell_type": "code",
   "execution_count": 7,
   "metadata": {},
   "outputs": [],
   "source": [
    "pretrained_model = \"https://tfhub.dev/tensorflow/resnet_50/feature_vector/1\""
   ]
  },
  {
   "cell_type": "code",
   "execution_count": 8,
   "metadata": {},
   "outputs": [],
   "source": [
    "lr = 0.001\n",
    "\n",
    "decay_steps = 100000\n",
    "decay_rate = 0.95\n",
    "\n",
    "exp_lr_scheduler = tf.keras.optimizers.schedules.ExponentialDecay(lr, decay_steps, decay_rate)"
   ]
  },
  {
   "cell_type": "code",
   "execution_count": 9,
   "metadata": {},
   "outputs": [],
   "source": [
    "def plotter(history):\n",
    "    training_accuracy = history.history['accuracy']\n",
    "    validation_accuracy = history.history['val_accuracy']\n",
    " \n",
    "    training_loss = history.history['loss']\n",
    "    validation_loss = history.history['val_loss']\n",
    "\n",
    "    epochs_range=range(EPOCHS)\n",
    "\n",
    "    plt.figure(figsize=(8, 8))\n",
    "    plt.subplot(1, 2, 1)\n",
    "    plt.plot(epochs_range, training_accuracy, label='Training Accuracy')\n",
    "    plt.plot(epochs_range, validation_accuracy, label='Validation Accuracy')\n",
    "    plt.legend(loc='lower right')\n",
    "    plt.title('Training and Validation Accuracy')\n",
    "\n",
    "    plt.subplot(1, 2, 2)\n",
    "    plt.plot(epochs_range, training_loss, label='Training Loss')\n",
    "    plt.plot(epochs_range, validation_loss, label='Validation Loss')\n",
    "    plt.legend(loc='upper right')\n",
    "    plt.title('Training and Validation Loss')\n",
    "    plt.show()"
   ]
  },
  {
   "cell_type": "code",
   "execution_count": 10,
   "metadata": {},
   "outputs": [],
   "source": [
    "def summary_plot(pretrained_model,losses,accuracies):\n",
    "    plt.figure(figsize=(8, 8))\n",
    "    \n",
    "    plt.subplot(1, 2, 1)\n",
    "    plt.plot(all_optimizers, losses)\n",
    "    plt.xlabel(\"Gradient Descent Variants\")\n",
    "    plt.ylabel(\"Loss Values\")\n",
    "    plt.title('Testing Loss Summary')\n",
    "\n",
    "    plt.subplot(1, 2, 2)\n",
    "    plt.bar(all_optimizers, accuracies)\n",
    "    plt.xlabel(\"Gradient Descent Variants\")\n",
    "    plt.ylabel(\"Accuracy Values\")\n",
    "    plt.title('Testing Accuracy Summary')\n",
    "    \n",
    "    plt.show()\n",
    "    "
   ]
  },
  {
   "cell_type": "code",
   "execution_count": 11,
   "metadata": {},
   "outputs": [
    {
     "name": "stdout",
     "output_type": "stream",
     "text": [
      "Epoch 1/25\n",
      "154/154 [==============================] - 370s 2s/step - loss: 4.8103 - accuracy: 0.0383 - val_loss: 4.3203 - val_accuracy: 0.0866\n",
      "Epoch 2/25\n",
      "154/154 [==============================] - 369s 2s/step - loss: 4.2418 - accuracy: 0.1079 - val_loss: 3.8931 - val_accuracy: 0.1818\n",
      "Epoch 3/25\n",
      "154/154 [==============================] - 371s 2s/step - loss: 3.8643 - accuracy: 0.1759 - val_loss: 3.5500 - val_accuracy: 0.2538\n",
      "Epoch 4/25\n",
      "154/154 [==============================] - 362s 2s/step - loss: 3.5430 - accuracy: 0.2442 - val_loss: 3.2580 - val_accuracy: 0.3301\n",
      "Epoch 5/25\n",
      "154/154 [==============================] - 364s 2s/step - loss: 3.2611 - accuracy: 0.3145 - val_loss: 3.0012 - val_accuracy: 0.3923\n",
      "Epoch 6/25\n",
      "154/154 [==============================] - 376s 2s/step - loss: 3.0129 - accuracy: 0.3831 - val_loss: 2.7808 - val_accuracy: 0.4497\n",
      "Epoch 7/25\n",
      "154/154 [==============================] - 367s 2s/step - loss: 2.7936 - accuracy: 0.4496 - val_loss: 2.5852 - val_accuracy: 0.4979\n",
      "Epoch 8/25\n",
      "154/154 [==============================] - 361s 2s/step - loss: 2.6008 - accuracy: 0.4970 - val_loss: 2.4186 - val_accuracy: 0.5516\n",
      "Epoch 9/25\n",
      "154/154 [==============================] - 371s 2s/step - loss: 2.4293 - accuracy: 0.5433 - val_loss: 2.2686 - val_accuracy: 0.5924\n",
      "Epoch 10/25\n",
      "154/154 [==============================] - 365s 2s/step - loss: 2.2773 - accuracy: 0.5838 - val_loss: 2.1377 - val_accuracy: 0.6205\n",
      "Epoch 11/25\n",
      "154/154 [==============================] - 363s 2s/step - loss: 2.1419 - accuracy: 0.6139 - val_loss: 2.0207 - val_accuracy: 0.6437\n",
      "Epoch 12/25\n",
      "154/154 [==============================] - 353s 2s/step - loss: 2.0202 - accuracy: 0.6448 - val_loss: 1.9196 - val_accuracy: 0.6693\n",
      "Epoch 13/25\n",
      "154/154 [==============================] - 359s 2s/step - loss: 1.9111 - accuracy: 0.6727 - val_loss: 1.8268 - val_accuracy: 0.6882\n",
      "Epoch 14/25\n",
      "154/154 [==============================] - 352s 2s/step - loss: 1.8130 - accuracy: 0.6951 - val_loss: 1.7434 - val_accuracy: 0.7084\n",
      "Epoch 15/25\n",
      "154/154 [==============================] - 352s 2s/step - loss: 1.7240 - accuracy: 0.7165 - val_loss: 1.6686 - val_accuracy: 0.7248\n",
      "Epoch 16/25\n",
      "154/154 [==============================] - 358s 2s/step - loss: 1.6431 - accuracy: 0.7330 - val_loss: 1.5998 - val_accuracy: 0.7370\n",
      "Epoch 17/25\n",
      "154/154 [==============================] - 357s 2s/step - loss: 1.5696 - accuracy: 0.7476 - val_loss: 1.5383 - val_accuracy: 0.7529\n",
      "Epoch 18/25\n",
      "154/154 [==============================] - 354s 2s/step - loss: 1.5023 - accuracy: 0.7643 - val_loss: 1.4809 - val_accuracy: 0.7608\n",
      "Epoch 19/25\n",
      "154/154 [==============================] - 354s 2s/step - loss: 1.4402 - accuracy: 0.7765 - val_loss: 1.4279 - val_accuracy: 0.7651\n",
      "Epoch 20/25\n",
      "154/154 [==============================] - 354s 2s/step - loss: 1.3835 - accuracy: 0.7873 - val_loss: 1.3804 - val_accuracy: 0.7767\n",
      "Epoch 21/25\n",
      "154/154 [==============================] - 348s 2s/step - loss: 1.3309 - accuracy: 0.7961 - val_loss: 1.3355 - val_accuracy: 0.7889\n",
      "Epoch 22/25\n",
      "154/154 [==============================] - 339s 2s/step - loss: 1.2821 - accuracy: 0.8072 - val_loss: 1.2959 - val_accuracy: 0.7926\n",
      "Epoch 23/25\n",
      "154/154 [==============================] - 340s 2s/step - loss: 1.2371 - accuracy: 0.8162 - val_loss: 1.2566 - val_accuracy: 0.8017\n",
      "Epoch 24/25\n",
      "154/154 [==============================] - 336s 2s/step - loss: 1.1956 - accuracy: 0.8215 - val_loss: 1.2198 - val_accuracy: 0.8078\n",
      "Epoch 25/25\n",
      "154/154 [==============================] - 335s 2s/step - loss: 1.1562 - accuracy: 0.8282 - val_loss: 1.1877 - val_accuracy: 0.8139\n"
     ]
    },
    {
     "data": {
      "image/png": "[encoded data removed]",
      "text/plain": [
       "<Figure size 576x576 with 2 Axes>"
      ]
     },
     "metadata": {
      "needs_background": "light"
     },
     "output_type": "display_data"
    },
    {
     "name": "stdout",
     "output_type": "stream",
     "text": [
      "52/52 [==============================] - 82s 2s/step - loss: 1.2206 - accuracy: 0.8021\n",
      "\n",
      "Loss on the TEST Set: 1.221\n",
      "\n",
      "Accuracy on the TEST Set: 80.208%\n"
     ]
    }
   ],
   "source": [
    "EPOCHS = 25\n",
    "\n",
    "feature_extractor = hub.KerasLayer(pretrained_model, input_shape=(image_size, image_size,3))\n",
    "feature_extractor.trainable = False\n",
    "model = tf.keras.Sequential([\n",
    "        feature_extractor,\n",
    "        tf.keras.layers.Dense(num_classes, activation ='softmax')])\n",
    "    \n",
    "           \n",
    "model.compile(optimizer=tf.keras.optimizers.SGD(learning_rate=exp_lr_scheduler),\n",
    "              loss='sparse_categorical_crossentropy',\n",
    "              metrics=['accuracy'])\n",
    "        \n",
    "\n",
    "history = model.fit(training_batches,\n",
    "                    epochs = EPOCHS,\n",
    "                    validation_data=validation_batches) \n",
    "        \n",
    "\n",
    "        \n",
    "plotter(history)\n",
    "        \n",
    "loss, accuracy = model.evaluate(testing_batches)\n",
    "        \n",
    "       \n",
    "print('\\nLoss on the TEST Set: {:,.3f}'.format(loss))\n",
    "print('\\nAccuracy on the TEST Set: {:.3%}'.format(accuracy))\n",
    "        \n",
    "    "
   ]
  }
 ],
 "metadata": {
  "kernelspec": {
   "display_name": "Python 3",
   "language": "python",
   "name": "python3"
  },
  "language_info": {
   "codemirror_mode": {
    "name": "ipython",
    "version": 3
   },
   "file_extension": ".py",
   "mimetype": "text/x-python",
   "name": "python",
   "nbconvert_exporter": "python",
   "pygments_lexer": "ipython3",
   "version": "3.7.9"
  }
 },
 "nbformat": 4,
 "nbformat_minor": 4
}
