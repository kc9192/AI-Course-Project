{
 "cells": [
  {
   "cell_type": "markdown",
   "metadata": {},
   "source": [
    "# oxford_flowers102 with mobilenet and adam"
   ]
  },
  {
   "cell_type": "markdown",
   "metadata": {},
   "source": [
    "## 1) Importing the libraries"
   ]
  },
  {
   "cell_type": "code",
   "execution_count": 1,
   "metadata": {},
   "outputs": [],
   "source": [
    "import matplotlib.pyplot as plt\n",
    "import numpy as np\n",
    "import tensorflow as tf\n",
    "import json\n",
    "import tensorflow_hub as hub\n",
    "import tensorflow_datasets as tfds\n",
    "tfds.disable_progress_bar()"
   ]
  },
  {
   "cell_type": "markdown",
   "metadata": {},
   "source": [
    "## 2) Loading and summarizing data and creating data pipelines"
   ]
  },
  {
   "cell_type": "code",
   "execution_count": 2,
   "metadata": {},
   "outputs": [],
   "source": [
    "data, dataset_info = tfds.load('oxford_flowers102', split='train+test+validation', as_supervised = True, with_info = True)\n",
    "datalen = [i for i,_ in enumerate(data)][-1] + 1\n",
    "datalen\n",
    "\n",
    "train_split = int(0.6*datalen)\n",
    "test_val_split = int(0.2*datalen)\n",
    "test_val_split = int(0.2*datalen)\n",
    "\n",
    "training_set = data.take(train_split)\n",
    "test_set = data.skip(train_split)\n",
    "validation_set = test_set.skip(test_val_split)\n",
    "test_set = test_set.take(test_val_split)\n",
    "\n",
    "dataset=training_set,validation_set,test_set"
   ]
  },
  {
   "cell_type": "code",
   "execution_count": 3,
   "metadata": {},
   "outputs": [
    {
     "data": {
      "text/plain": [
       "tfds.core.DatasetInfo(\n",
       "    name='oxford_flowers102',\n",
       "    version=2.1.1,\n",
       "    description='The Oxford Flowers 102 dataset is a consistent of 102 flower categories commonly occurring\n",
       "in the United Kingdom. Each class consists of between 40 and 258 images. The images have\n",
       "large scale, pose and light variations. In addition, there are categories that have large\n",
       "variations within the category and several very similar categories.\n",
       "\n",
       "The dataset is divided into a training set, a validation set and a test set.\n",
       "The training set and validation set each consist of 10 images per class (totalling 1020 images each).\n",
       "The test set consists of the remaining 6149 images (minimum 20 per class).',\n",
       "    homepage='https://www.robots.ox.ac.uk/~vgg/data/flowers/102/',\n",
       "    features=FeaturesDict({\n",
       "        'file_name': Text(shape=(), dtype=tf.string),\n",
       "        'image': Image(shape=(None, None, 3), dtype=tf.uint8),\n",
       "        'label': ClassLabel(shape=(), dtype=tf.int64, num_classes=102),\n",
       "    }),\n",
       "    total_num_examples=8189,\n",
       "    splits={\n",
       "        'test': 6149,\n",
       "        'train': 1020,\n",
       "        'validation': 1020,\n",
       "    },\n",
       "    supervised_keys=('image', 'label'),\n",
       "    citation=\"\"\"@InProceedings{Nilsback08,\n",
       "       author = \"Nilsback, M-E. and Zisserman, A.\",\n",
       "       title = \"Automated Flower Classification over a Large Number of Classes\",\n",
       "       booktitle = \"Proceedings of the Indian Conference on Computer Vision, Graphics and Image Processing\",\n",
       "       year = \"2008\",\n",
       "       month = \"Dec\"\n",
       "    }\"\"\",\n",
       "    redistribution_info=,\n",
       ")"
      ]
     },
     "execution_count": 3,
     "metadata": {},
     "output_type": "execute_result"
    }
   ],
   "source": [
    "dataset_info"
   ]
  },
  {
   "cell_type": "markdown",
   "metadata": {},
   "source": [
    "### From the above datset_info we can see that the data is split into train, test and validation batches and each image has features like filename, label and image itself(255 pixels) which can be harnessed whenever needed"
   ]
  },
  {
   "cell_type": "code",
   "execution_count": 4,
   "metadata": {},
   "outputs": [
    {
     "name": "stdout",
     "output_type": "stream",
     "text": [
      "There are 4,913 images in the training set\n",
      "There are 1,637 images in the validation set\n",
      "There are 1,637 images in the test set\n",
      "There are 102 classes in our dataset\n"
     ]
    }
   ],
   "source": [
    "total_examples = dataset_info.splits['train'].num_examples + dataset_info.splits['test'].num_examples + dataset_info.splits['validation'].num_examples\n",
    "\n",
    "num_training_examples = train_split\n",
    "num_validation_examples = test_val_split\n",
    "num_test_examples = num_validation_examples\n",
    "\n",
    "print('There are {:,} images in the training set'.format(num_training_examples))\n",
    "print('There are {:,} images in the validation set'.format(num_validation_examples))\n",
    "print('There are {:,} images in the test set'.format(num_test_examples))\n",
    "\n",
    "num_classes = dataset_info.features['label'].num_classes\n",
    "print('There are {:,} classes in our dataset'.format(num_classes))"
   ]
  },
  {
   "cell_type": "code",
   "execution_count": 5,
   "metadata": {},
   "outputs": [],
   "source": [
    "with open('label_map.json', 'r') as f:\n",
    "    class_names = json.load(f)"
   ]
  },
  {
   "cell_type": "code",
   "execution_count": 6,
   "metadata": {},
   "outputs": [],
   "source": [
    "def resize(image, label):\n",
    "    image = tf.cast(image, tf.float32)\n",
    "    image = tf.image.resize(image, [224,224], preserve_aspect_ratio=False)\n",
    "    image /= 255\n",
    "    return image, label\n",
    "\n",
    "batch_size = 32\n",
    "image_size = 224\n",
    "\n",
    "training_batches = training_set.cache().shuffle(num_training_examples//4).map(resize).batch(batch_size).prefetch(1)\n",
    "validation_batches = validation_set.cache().map(resize).batch(batch_size).prefetch(1)\n",
    "testing_batches = test_set.cache().map(resize).batch(batch_size).prefetch(1)"
   ]
  },
  {
   "cell_type": "markdown",
   "metadata": {},
   "source": [
    "## 3) Creating models, plots and test data evaluation"
   ]
  },
  {
   "cell_type": "code",
   "execution_count": 7,
   "metadata": {},
   "outputs": [],
   "source": [
    "pretrained_model = \"https://tfhub.dev/google/imagenet/inception_v3/feature_vector/4\""
   ]
  },
  {
   "cell_type": "code",
   "execution_count": 8,
   "metadata": {},
   "outputs": [],
   "source": [
    "lr = 0.001\n",
    "\n",
    "decay_steps = 100000\n",
    "decay_rate = 0.95\n",
    "\n",
    "exp_lr_scheduler = tf.keras.optimizers.schedules.ExponentialDecay(lr, decay_steps, decay_rate)"
   ]
  },
  {
   "cell_type": "code",
   "execution_count": 9,
   "metadata": {},
   "outputs": [],
   "source": [
    "def plotter(history):\n",
    "    training_accuracy = history.history['accuracy']\n",
    "    validation_accuracy = history.history['val_accuracy']\n",
    " \n",
    "    training_loss = history.history['loss']\n",
    "    validation_loss = history.history['val_loss']\n",
    "\n",
    "    epochs_range=range(EPOCHS)\n",
    "\n",
    "    plt.figure(figsize=(8, 8))\n",
    "    plt.subplot(1, 2, 1)\n",
    "    plt.plot(epochs_range, training_accuracy, label='Training Accuracy')\n",
    "    plt.plot(epochs_range, validation_accuracy, label='Validation Accuracy')\n",
    "    plt.legend(loc='lower right')\n",
    "    plt.title('Training and Validation Accuracy')\n",
    "\n",
    "    plt.subplot(1, 2, 2)\n",
    "    plt.plot(epochs_range, training_loss, label='Training Loss')\n",
    "    plt.plot(epochs_range, validation_loss, label='Validation Loss')\n",
    "    plt.legend(loc='upper right')\n",
    "    plt.title('Training and Validation Loss')\n",
    "    plt.show()"
   ]
  },
  {
   "cell_type": "code",
   "execution_count": 10,
   "metadata": {},
   "outputs": [],
   "source": [
    "def summary_plot(pretrained_model,losses,accuracies):\n",
    "    plt.figure(figsize=(8, 8))\n",
    "    \n",
    "    plt.subplot(1, 2, 1)\n",
    "    plt.plot(all_optimizers, losses)\n",
    "    plt.xlabel(\"Gradient Descent Variants\")\n",
    "    plt.ylabel(\"Loss Values\")\n",
    "    plt.title('Testing Loss Summary')\n",
    "\n",
    "    plt.subplot(1, 2, 2)\n",
    "    plt.bar(all_optimizers, accuracies)\n",
    "    plt.xlabel(\"Gradient Descent Variants\")\n",
    "    plt.ylabel(\"Accuracy Values\")\n",
    "    plt.title('Testing Accuracy Summary')\n",
    "    \n",
    "    plt.show()\n",
    "    "
   ]
  },
  {
   "cell_type": "code",
   "execution_count": 11,
   "metadata": {},
   "outputs": [
    {
     "name": "stdout",
     "output_type": "stream",
     "text": [
      "Epoch 1/25\n",
      "154/154 [==============================] - 1128s 7s/step - loss: 2.4400 - accuracy: 0.4655 - val_loss: 1.2529 - val_accuracy: 0.6931\n",
      "Epoch 2/25\n",
      "154/154 [==============================] - 1163s 8s/step - loss: 0.8284 - accuracy: 0.8154 - val_loss: 0.9128 - val_accuracy: 0.7828\n",
      "Epoch 3/25\n",
      "154/154 [==============================] - 1137s 7s/step - loss: 0.4951 - accuracy: 0.8986 - val_loss: 0.7434 - val_accuracy: 0.8176\n",
      "Epoch 4/25\n",
      "154/154 [==============================] - 1142s 7s/step - loss: 0.3165 - accuracy: 0.9418 - val_loss: 0.6924 - val_accuracy: 0.8267\n",
      "Epoch 5/25\n",
      "154/154 [==============================] - 1150s 7s/step - loss: 0.2238 - accuracy: 0.9676 - val_loss: 0.6412 - val_accuracy: 0.8383\n",
      "Epoch 6/25\n",
      "154/154 [==============================] - 1150s 7s/step - loss: 0.1621 - accuracy: 0.9827 - val_loss: 0.6175 - val_accuracy: 0.8401\n",
      "Epoch 7/25\n",
      "154/154 [==============================] - 1138s 7s/step - loss: 0.1226 - accuracy: 0.9912 - val_loss: 0.6203 - val_accuracy: 0.8365\n",
      "Epoch 8/25\n",
      "154/154 [==============================] - 1126s 7s/step - loss: 0.0929 - accuracy: 0.9953 - val_loss: 0.5967 - val_accuracy: 0.8414\n",
      "Epoch 9/25\n",
      "154/154 [==============================] - 1130s 7s/step - loss: 0.0738 - accuracy: 0.9980 - val_loss: 0.5727 - val_accuracy: 0.8542\n",
      "Epoch 10/25\n",
      "154/154 [==============================] - 1146s 7s/step - loss: 0.0599 - accuracy: 0.9994 - val_loss: 0.5599 - val_accuracy: 0.8475\n",
      "Epoch 11/25\n",
      "154/154 [==============================] - 1165s 8s/step - loss: 0.0497 - accuracy: 0.9994 - val_loss: 0.5623 - val_accuracy: 0.8560\n",
      "Epoch 12/25\n",
      "154/154 [==============================] - 1186s 8s/step - loss: 0.0410 - accuracy: 1.0000 - val_loss: 0.5461 - val_accuracy: 0.8597\n",
      "Epoch 13/25\n",
      "154/154 [==============================] - 1302s 8s/step - loss: 0.0350 - accuracy: 1.0000 - val_loss: 0.5490 - val_accuracy: 0.8542\n",
      "Epoch 14/25\n",
      "154/154 [==============================] - 1305s 8s/step - loss: 0.0304 - accuracy: 1.0000 - val_loss: 0.5631 - val_accuracy: 0.8542\n",
      "Epoch 15/25\n",
      "154/154 [==============================] - 1242s 8s/step - loss: 0.0262 - accuracy: 1.0000 - val_loss: 0.5529 - val_accuracy: 0.8542\n",
      "Epoch 16/25\n",
      "154/154 [==============================] - 1218s 8s/step - loss: 0.0235 - accuracy: 1.0000 - val_loss: 0.5530 - val_accuracy: 0.8523\n",
      "Epoch 17/25\n",
      "154/154 [==============================] - 1218s 8s/step - loss: 0.0204 - accuracy: 1.0000 - val_loss: 0.5531 - val_accuracy: 0.8566\n",
      "Epoch 18/25\n",
      "154/154 [==============================] - 1182s 8s/step - loss: 0.0181 - accuracy: 1.0000 - val_loss: 0.5516 - val_accuracy: 0.8585\n",
      "Epoch 19/25\n",
      "154/154 [==============================] - 1221s 8s/step - loss: 0.0162 - accuracy: 1.0000 - val_loss: 0.5501 - val_accuracy: 0.8566\n",
      "Epoch 20/25\n",
      "154/154 [==============================] - 1481s 10s/step - loss: 0.0144 - accuracy: 1.0000 - val_loss: 0.5542 - val_accuracy: 0.8609\n",
      "Epoch 21/25\n",
      "154/154 [==============================] - 1874s 12s/step - loss: 0.0130 - accuracy: 1.0000 - val_loss: 0.5569 - val_accuracy: 0.8548\n",
      "Epoch 22/25\n",
      "154/154 [==============================] - 1869s 12s/step - loss: 0.0118 - accuracy: 1.0000 - val_loss: 0.5576 - val_accuracy: 0.8554\n",
      "Epoch 23/25\n",
      "154/154 [==============================] - 1896s 12s/step - loss: 0.0106 - accuracy: 1.0000 - val_loss: 0.5488 - val_accuracy: 0.8597\n",
      "Epoch 24/25\n",
      "154/154 [==============================] - 1916s 12s/step - loss: 0.0096 - accuracy: 1.0000 - val_loss: 0.5524 - val_accuracy: 0.8585\n",
      "Epoch 25/25\n",
      "154/154 [==============================] - 1921s 12s/step - loss: 0.0087 - accuracy: 1.0000 - val_loss: 0.5509 - val_accuracy: 0.8609\n"
     ]
    },
    {
     "data": {
      "image/png": "[encoded data removed]",
      "text/plain": [
       "<Figure size 576x576 with 2 Axes>"
      ]
     },
     "metadata": {
      "needs_background": "light"
     },
     "output_type": "display_data"
    },
    {
     "name": "stdout",
     "output_type": "stream",
     "text": [
      "52/52 [==============================] - 263s 5s/step - loss: 0.5146 - accuracy: 0.8662\n",
      "\n",
      "Loss on the TEST Set: 0.515\n",
      "\n",
      "Accuracy on the TEST Set: 86.622%\n"
     ]
    }
   ],
   "source": [
    "EPOCHS = 25\n",
    "\n",
    "feature_extractor = hub.KerasLayer(pretrained_model, input_shape=(image_size, image_size,3))\n",
    "feature_extractor.trainable = False\n",
    "model = tf.keras.Sequential([\n",
    "        feature_extractor,\n",
    "        tf.keras.layers.Dense(num_classes, activation ='softmax')])\n",
    "    \n",
    "           \n",
    "model.compile(optimizer=tf.keras.optimizers.Adam(learning_rate=exp_lr_scheduler),\n",
    "              loss='sparse_categorical_crossentropy',\n",
    "              metrics=['accuracy'])\n",
    "        \n",
    "\n",
    "history = model.fit(training_batches,\n",
    "                    epochs = EPOCHS,\n",
    "                    validation_data=validation_batches) \n",
    "        \n",
    "\n",
    "        \n",
    "plotter(history)\n",
    "        \n",
    "loss, accuracy = model.evaluate(testing_batches)\n",
    "        \n",
    "       \n",
    "print('\\nLoss on the TEST Set: {:,.3f}'.format(loss))\n",
    "print('\\nAccuracy on the TEST Set: {:.3%}'.format(accuracy))\n",
    "        \n",
    "    "
   ]
  }
 ],
 "metadata": {
  "kernelspec": {
   "display_name": "Python 3",
   "language": "python",
   "name": "python3"
  },
  "language_info": {
   "codemirror_mode": {
    "name": "ipython",
    "version": 3
   },
   "file_extension": ".py",
   "mimetype": "text/x-python",
   "name": "python",
   "nbconvert_exporter": "python",
   "pygments_lexer": "ipython3",
   "version": "3.7.9"
  }
 },
 "nbformat": 4,
 "nbformat_minor": 4
}
