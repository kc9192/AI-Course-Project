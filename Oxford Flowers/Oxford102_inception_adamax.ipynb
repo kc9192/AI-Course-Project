{
 "cells": [
  {
   "cell_type": "markdown",
   "metadata": {},
   "source": [
    "# oxford_flowers102 with mobilenet and adamax"
   ]
  },
  {
   "cell_type": "markdown",
   "metadata": {},
   "source": [
    "## 1) Importing the libraries"
   ]
  },
  {
   "cell_type": "code",
   "execution_count": 1,
   "metadata": {},
   "outputs": [],
   "source": [
    "import matplotlib.pyplot as plt\n",
    "import numpy as np\n",
    "import tensorflow as tf\n",
    "import json\n",
    "import tensorflow_hub as hub\n",
    "import tensorflow_datasets as tfds\n",
    "tfds.disable_progress_bar()"
   ]
  },
  {
   "cell_type": "markdown",
   "metadata": {},
   "source": [
    "## 2) Loading and summarizing data and creating data pipelines"
   ]
  },
  {
   "cell_type": "code",
   "execution_count": 2,
   "metadata": {},
   "outputs": [],
   "source": [
    "data, dataset_info = tfds.load('oxford_flowers102', split='train+test+validation', as_supervised = True, with_info = True)\n",
    "datalen = [i for i,_ in enumerate(data)][-1] + 1\n",
    "datalen\n",
    "\n",
    "train_split = int(0.6*datalen)\n",
    "test_val_split = int(0.2*datalen)\n",
    "test_val_split = int(0.2*datalen)\n",
    "\n",
    "training_set = data.take(train_split)\n",
    "test_set = data.skip(train_split)\n",
    "validation_set = test_set.skip(test_val_split)\n",
    "test_set = test_set.take(test_val_split)\n",
    "\n",
    "dataset=training_set,validation_set,test_set"
   ]
  },
  {
   "cell_type": "code",
   "execution_count": 3,
   "metadata": {},
   "outputs": [
    {
     "data": {
      "text/plain": [
       "tfds.core.DatasetInfo(\n",
       "    name='oxford_flowers102',\n",
       "    version=2.1.1,\n",
       "    description='The Oxford Flowers 102 dataset is a consistent of 102 flower categories commonly occurring\n",
       "in the United Kingdom. Each class consists of between 40 and 258 images. The images have\n",
       "large scale, pose and light variations. In addition, there are categories that have large\n",
       "variations within the category and several very similar categories.\n",
       "\n",
       "The dataset is divided into a training set, a validation set and a test set.\n",
       "The training set and validation set each consist of 10 images per class (totalling 1020 images each).\n",
       "The test set consists of the remaining 6149 images (minimum 20 per class).',\n",
       "    homepage='https://www.robots.ox.ac.uk/~vgg/data/flowers/102/',\n",
       "    features=FeaturesDict({\n",
       "        'file_name': Text(shape=(), dtype=tf.string),\n",
       "        'image': Image(shape=(None, None, 3), dtype=tf.uint8),\n",
       "        'label': ClassLabel(shape=(), dtype=tf.int64, num_classes=102),\n",
       "    }),\n",
       "    total_num_examples=8189,\n",
       "    splits={\n",
       "        'test': 6149,\n",
       "        'train': 1020,\n",
       "        'validation': 1020,\n",
       "    },\n",
       "    supervised_keys=('image', 'label'),\n",
       "    citation=\"\"\"@InProceedings{Nilsback08,\n",
       "       author = \"Nilsback, M-E. and Zisserman, A.\",\n",
       "       title = \"Automated Flower Classification over a Large Number of Classes\",\n",
       "       booktitle = \"Proceedings of the Indian Conference on Computer Vision, Graphics and Image Processing\",\n",
       "       year = \"2008\",\n",
       "       month = \"Dec\"\n",
       "    }\"\"\",\n",
       "    redistribution_info=,\n",
       ")"
      ]
     },
     "execution_count": 3,
     "metadata": {},
     "output_type": "execute_result"
    }
   ],
   "source": [
    "dataset_info"
   ]
  },
  {
   "cell_type": "markdown",
   "metadata": {},
   "source": [
    "### From the above datset_info we can see that the data is split into train, test and validation batches and each image has features like filename, label and image itself(255 pixels) which can be harnessed whenever needed"
   ]
  },
  {
   "cell_type": "code",
   "execution_count": 4,
   "metadata": {},
   "outputs": [
    {
     "name": "stdout",
     "output_type": "stream",
     "text": [
      "There are 4,913 images in the training set\n",
      "There are 1,637 images in the validation set\n",
      "There are 1,637 images in the test set\n",
      "There are 102 classes in our dataset\n"
     ]
    }
   ],
   "source": [
    "total_examples = dataset_info.splits['train'].num_examples + dataset_info.splits['test'].num_examples + dataset_info.splits['validation'].num_examples\n",
    "\n",
    "num_training_examples = train_split\n",
    "num_validation_examples = test_val_split\n",
    "num_test_examples = num_validation_examples\n",
    "\n",
    "print('There are {:,} images in the training set'.format(num_training_examples))\n",
    "print('There are {:,} images in the validation set'.format(num_validation_examples))\n",
    "print('There are {:,} images in the test set'.format(num_test_examples))\n",
    "\n",
    "num_classes = dataset_info.features['label'].num_classes\n",
    "print('There are {:,} classes in our dataset'.format(num_classes))"
   ]
  },
  {
   "cell_type": "code",
   "execution_count": 5,
   "metadata": {},
   "outputs": [],
   "source": [
    "with open('label_map.json', 'r') as f:\n",
    "    class_names = json.load(f)"
   ]
  },
  {
   "cell_type": "code",
   "execution_count": 6,
   "metadata": {},
   "outputs": [],
   "source": [
    "def resize(image, label):\n",
    "    image = tf.cast(image, tf.float32)\n",
    "    image = tf.image.resize(image, [224,224], preserve_aspect_ratio=False)\n",
    "    image /= 255\n",
    "    return image, label\n",
    "\n",
    "batch_size = 32\n",
    "image_size = 224\n",
    "\n",
    "training_batches = training_set.cache().shuffle(num_training_examples//4).map(resize).batch(batch_size).prefetch(1)\n",
    "validation_batches = validation_set.cache().map(resize).batch(batch_size).prefetch(1)\n",
    "testing_batches = test_set.cache().map(resize).batch(batch_size).prefetch(1)"
   ]
  },
  {
   "cell_type": "markdown",
   "metadata": {},
   "source": [
    "## 3) Creating models, plots and test data evaluation"
   ]
  },
  {
   "cell_type": "code",
   "execution_count": 7,
   "metadata": {},
   "outputs": [],
   "source": [
    "pretrained_model = \"https://tfhub.dev/google/imagenet/inception_v3/feature_vector/4\""
   ]
  },
  {
   "cell_type": "code",
   "execution_count": 8,
   "metadata": {},
   "outputs": [],
   "source": [
    "lr = 0.001\n",
    "\n",
    "decay_steps = 100000\n",
    "decay_rate = 0.95\n",
    "\n",
    "exp_lr_scheduler = tf.keras.optimizers.schedules.ExponentialDecay(lr, decay_steps, decay_rate)"
   ]
  },
  {
   "cell_type": "code",
   "execution_count": 9,
   "metadata": {},
   "outputs": [],
   "source": [
    "def plotter(history):\n",
    "    training_accuracy = history.history['accuracy']\n",
    "    validation_accuracy = history.history['val_accuracy']\n",
    " \n",
    "    training_loss = history.history['loss']\n",
    "    validation_loss = history.history['val_loss']\n",
    "\n",
    "    epochs_range=range(EPOCHS)\n",
    "\n",
    "    plt.figure(figsize=(8, 8))\n",
    "    plt.subplot(1, 2, 1)\n",
    "    plt.plot(epochs_range, training_accuracy, label='Training Accuracy')\n",
    "    plt.plot(epochs_range, validation_accuracy, label='Validation Accuracy')\n",
    "    plt.legend(loc='lower right')\n",
    "    plt.title('Training and Validation Accuracy')\n",
    "\n",
    "    plt.subplot(1, 2, 2)\n",
    "    plt.plot(epochs_range, training_loss, label='Training Loss')\n",
    "    plt.plot(epochs_range, validation_loss, label='Validation Loss')\n",
    "    plt.legend(loc='upper right')\n",
    "    plt.title('Training and Validation Loss')\n",
    "    plt.show()"
   ]
  },
  {
   "cell_type": "code",
   "execution_count": 10,
   "metadata": {},
   "outputs": [],
   "source": [
    "def summary_plot(pretrained_model,losses,accuracies):\n",
    "    plt.figure(figsize=(8, 8))\n",
    "    \n",
    "    plt.subplot(1, 2, 1)\n",
    "    plt.plot(all_optimizers, losses)\n",
    "    plt.xlabel(\"Gradient Descent Variants\")\n",
    "    plt.ylabel(\"Loss Values\")\n",
    "    plt.title('Testing Loss Summary')\n",
    "\n",
    "    plt.subplot(1, 2, 2)\n",
    "    plt.bar(all_optimizers, accuracies)\n",
    "    plt.xlabel(\"Gradient Descent Variants\")\n",
    "    plt.ylabel(\"Accuracy Values\")\n",
    "    plt.title('Testing Accuracy Summary')\n",
    "    \n",
    "    plt.show()\n",
    "    "
   ]
  },
  {
   "cell_type": "code",
   "execution_count": 11,
   "metadata": {},
   "outputs": [
    {
     "name": "stdout",
     "output_type": "stream",
     "text": [
      "Epoch 1/25\n",
      "154/154 [==============================] - 1136s 7s/step - loss: 3.2409 - accuracy: 0.3161 - val_loss: 2.1967 - val_accuracy: 0.5564\n",
      "Epoch 2/25\n",
      "154/154 [==============================] - 1176s 8s/step - loss: 1.8181 - accuracy: 0.6550 - val_loss: 1.6110 - val_accuracy: 0.6614\n",
      "Epoch 3/25\n",
      "154/154 [==============================] - 1137s 7s/step - loss: 1.3203 - accuracy: 0.7570 - val_loss: 1.3171 - val_accuracy: 0.7267\n",
      "Epoch 4/25\n",
      "154/154 [==============================] - 1140s 7s/step - loss: 1.0369 - accuracy: 0.8152 - val_loss: 1.1405 - val_accuracy: 0.7749\n",
      "Epoch 5/25\n",
      "154/154 [==============================] - 1151s 7s/step - loss: 0.8506 - accuracy: 0.8545 - val_loss: 1.0236 - val_accuracy: 0.7852\n",
      "Epoch 6/25\n",
      "154/154 [==============================] - 1147s 7s/step - loss: 0.7146 - accuracy: 0.8779 - val_loss: 0.9241 - val_accuracy: 0.8060\n",
      "Epoch 7/25\n",
      "154/154 [==============================] - 1139s 7s/step - loss: 0.6105 - accuracy: 0.8992 - val_loss: 0.8639 - val_accuracy: 0.8151\n",
      "Epoch 8/25\n",
      "154/154 [==============================] - 1125s 7s/step - loss: 0.5268 - accuracy: 0.9176 - val_loss: 0.8229 - val_accuracy: 0.8182\n",
      "Epoch 9/25\n",
      "154/154 [==============================] - 1129s 7s/step - loss: 0.4603 - accuracy: 0.9294 - val_loss: 0.7666 - val_accuracy: 0.8316\n",
      "Epoch 10/25\n",
      "154/154 [==============================] - 1141s 7s/step - loss: 0.4033 - accuracy: 0.9420 - val_loss: 0.7408 - val_accuracy: 0.8249\n",
      "Epoch 11/25\n",
      "154/154 [==============================] - 1164s 8s/step - loss: 0.3581 - accuracy: 0.9546 - val_loss: 0.7212 - val_accuracy: 0.8286\n",
      "Epoch 12/25\n",
      "154/154 [==============================] - 1186s 8s/step - loss: 0.3150 - accuracy: 0.9607 - val_loss: 0.6908 - val_accuracy: 0.8377\n",
      "Epoch 13/25\n",
      "154/154 [==============================] - 1300s 8s/step - loss: 0.2814 - accuracy: 0.9680 - val_loss: 0.6706 - val_accuracy: 0.8395\n",
      "Epoch 14/25\n",
      "154/154 [==============================] - 1304s 8s/step - loss: 0.2505 - accuracy: 0.9754 - val_loss: 0.6619 - val_accuracy: 0.8383\n",
      "Epoch 15/25\n",
      "154/154 [==============================] - 1236s 8s/step - loss: 0.2239 - accuracy: 0.9788 - val_loss: 0.6461 - val_accuracy: 0.8450\n",
      "Epoch 16/25\n",
      "154/154 [==============================] - 1225s 8s/step - loss: 0.2032 - accuracy: 0.9833 - val_loss: 0.6278 - val_accuracy: 0.8432\n",
      "Epoch 17/25\n",
      "154/154 [==============================] - 1214s 8s/step - loss: 0.1818 - accuracy: 0.9860 - val_loss: 0.6159 - val_accuracy: 0.8456\n",
      "Epoch 18/25\n",
      "154/154 [==============================] - 1182s 8s/step - loss: 0.1637 - accuracy: 0.9888 - val_loss: 0.6121 - val_accuracy: 0.8456\n",
      "Epoch 19/25\n",
      "154/154 [==============================] - 1219s 8s/step - loss: 0.1474 - accuracy: 0.9921 - val_loss: 0.6117 - val_accuracy: 0.8426\n",
      "Epoch 20/25\n",
      "154/154 [==============================] - 1481s 10s/step - loss: 0.1340 - accuracy: 0.9939 - val_loss: 0.5961 - val_accuracy: 0.8462\n",
      "Epoch 21/25\n",
      "154/154 [==============================] - 1875s 12s/step - loss: 0.1195 - accuracy: 0.9949 - val_loss: 0.5962 - val_accuracy: 0.8475\n",
      "Epoch 22/25\n",
      "154/154 [==============================] - 1868s 12s/step - loss: 0.1099 - accuracy: 0.9955 - val_loss: 0.5836 - val_accuracy: 0.8499\n",
      "Epoch 23/25\n",
      "154/154 [==============================] - 1893s 12s/step - loss: 0.0983 - accuracy: 0.9974 - val_loss: 0.5785 - val_accuracy: 0.8517\n",
      "Epoch 24/25\n",
      "154/154 [==============================] - 1912s 12s/step - loss: 0.0904 - accuracy: 0.9969 - val_loss: 0.5763 - val_accuracy: 0.8493\n",
      "Epoch 25/25\n",
      "154/154 [==============================] - 1918s 12s/step - loss: 0.0815 - accuracy: 0.9986 - val_loss: 0.5673 - val_accuracy: 0.8487\n"
     ]
    },
    {
     "data": {
      "image/png": "[encoded data removed]",
      "text/plain": [
       "<Figure size 576x576 with 2 Axes>"
      ]
     },
     "metadata": {
      "needs_background": "light"
     },
     "output_type": "display_data"
    },
    {
     "name": "stdout",
     "output_type": "stream",
     "text": [
      "52/52 [==============================] - 263s 5s/step - loss: 0.5663 - accuracy: 0.8491\n",
      "\n",
      "Loss on the TEST Set: 0.566\n",
      "\n",
      "Accuracy on the TEST Set: 84.911%\n"
     ]
    }
   ],
   "source": [
    "EPOCHS = 25\n",
    "\n",
    "feature_extractor = hub.KerasLayer(pretrained_model, input_shape=(image_size, image_size,3))\n",
    "feature_extractor.trainable = False\n",
    "model = tf.keras.Sequential([\n",
    "        feature_extractor,\n",
    "        tf.keras.layers.Dense(num_classes, activation ='softmax')])\n",
    "    \n",
    "           \n",
    "model.compile(optimizer=tf.keras.optimizers.Adamax(learning_rate=exp_lr_scheduler),\n",
    "              loss='sparse_categorical_crossentropy',\n",
    "              metrics=['accuracy'])\n",
    "        \n",
    "\n",
    "history = model.fit(training_batches,\n",
    "                    epochs = EPOCHS,\n",
    "                    validation_data=validation_batches) \n",
    "        \n",
    "\n",
    "        \n",
    "plotter(history)\n",
    "        \n",
    "loss, accuracy = model.evaluate(testing_batches)\n",
    "        \n",
    "       \n",
    "print('\\nLoss on the TEST Set: {:,.3f}'.format(loss))\n",
    "print('\\nAccuracy on the TEST Set: {:.3%}'.format(accuracy))\n",
    "        \n",
    "    "
   ]
  }
 ],
 "metadata": {
  "kernelspec": {
   "display_name": "Python 3",
   "language": "python",
   "name": "python3"
  },
  "language_info": {
   "codemirror_mode": {
    "name": "ipython",
    "version": 3
   },
   "file_extension": ".py",
   "mimetype": "text/x-python",
   "name": "python",
   "nbconvert_exporter": "python",
   "pygments_lexer": "ipython3",
   "version": "3.7.9"
  }
 },
 "nbformat": 4,
 "nbformat_minor": 4
}
