{
 "cells": [
  {
   "cell_type": "markdown",
   "metadata": {},
   "source": [
    "# oxford_flowers102 with mobilenet and adamax"
   ]
  },
  {
   "cell_type": "markdown",
   "metadata": {},
   "source": [
    "## 1) Importing the libraries"
   ]
  },
  {
   "cell_type": "code",
   "execution_count": 1,
   "metadata": {},
   "outputs": [],
   "source": [
    "import matplotlib.pyplot as plt\n",
    "import numpy as np\n",
    "import tensorflow as tf\n",
    "import json\n",
    "import tensorflow_hub as hub\n",
    "import tensorflow_datasets as tfds\n",
    "tfds.disable_progress_bar()"
   ]
  },
  {
   "cell_type": "markdown",
   "metadata": {},
   "source": [
    "## 2) Loading and summarizing data and creating data pipelines"
   ]
  },
  {
   "cell_type": "code",
   "execution_count": 2,
   "metadata": {},
   "outputs": [],
   "source": [
    "data, dataset_info = tfds.load('oxford_flowers102', split='train+test+validation', as_supervised = True, with_info = True)\n",
    "datalen = [i for i,_ in enumerate(data)][-1] + 1\n",
    "datalen\n",
    "\n",
    "train_split = int(0.6*datalen)\n",
    "test_val_split = int(0.2*datalen)\n",
    "test_val_split = int(0.2*datalen)\n",
    "\n",
    "training_set = data.take(train_split)\n",
    "test_set = data.skip(train_split)\n",
    "validation_set = test_set.skip(test_val_split)\n",
    "test_set = test_set.take(test_val_split)\n",
    "\n",
    "dataset=training_set,validation_set,test_set"
   ]
  },
  {
   "cell_type": "code",
   "execution_count": 3,
   "metadata": {},
   "outputs": [
    {
     "data": {
      "text/plain": [
       "tfds.core.DatasetInfo(\n",
       "    name='oxford_flowers102',\n",
       "    version=2.1.1,\n",
       "    description='The Oxford Flowers 102 dataset is a consistent of 102 flower categories commonly occurring\n",
       "in the United Kingdom. Each class consists of between 40 and 258 images. The images have\n",
       "large scale, pose and light variations. In addition, there are categories that have large\n",
       "variations within the category and several very similar categories.\n",
       "\n",
       "The dataset is divided into a training set, a validation set and a test set.\n",
       "The training set and validation set each consist of 10 images per class (totalling 1020 images each).\n",
       "The test set consists of the remaining 6149 images (minimum 20 per class).',\n",
       "    homepage='https://www.robots.ox.ac.uk/~vgg/data/flowers/102/',\n",
       "    features=FeaturesDict({\n",
       "        'file_name': Text(shape=(), dtype=tf.string),\n",
       "        'image': Image(shape=(None, None, 3), dtype=tf.uint8),\n",
       "        'label': ClassLabel(shape=(), dtype=tf.int64, num_classes=102),\n",
       "    }),\n",
       "    total_num_examples=8189,\n",
       "    splits={\n",
       "        'test': 6149,\n",
       "        'train': 1020,\n",
       "        'validation': 1020,\n",
       "    },\n",
       "    supervised_keys=('image', 'label'),\n",
       "    citation=\"\"\"@InProceedings{Nilsback08,\n",
       "       author = \"Nilsback, M-E. and Zisserman, A.\",\n",
       "       title = \"Automated Flower Classification over a Large Number of Classes\",\n",
       "       booktitle = \"Proceedings of the Indian Conference on Computer Vision, Graphics and Image Processing\",\n",
       "       year = \"2008\",\n",
       "       month = \"Dec\"\n",
       "    }\"\"\",\n",
       "    redistribution_info=,\n",
       ")"
      ]
     },
     "execution_count": 3,
     "metadata": {},
     "output_type": "execute_result"
    }
   ],
   "source": [
    "dataset_info"
   ]
  },
  {
   "cell_type": "markdown",
   "metadata": {},
   "source": [
    "### From the above datset_info we can see that the data is split into train, test and validation batches and each image has features like filename, label and image itself(255 pixels) which can be harnessed whenever needed"
   ]
  },
  {
   "cell_type": "code",
   "execution_count": 4,
   "metadata": {},
   "outputs": [
    {
     "name": "stdout",
     "output_type": "stream",
     "text": [
      "There are 4,913 images in the training set\n",
      "There are 1,637 images in the validation set\n",
      "There are 1,637 images in the test set\n",
      "There are 102 classes in our dataset\n"
     ]
    }
   ],
   "source": [
    "total_examples = dataset_info.splits['train'].num_examples + dataset_info.splits['test'].num_examples + dataset_info.splits['validation'].num_examples\n",
    "\n",
    "num_training_examples = train_split\n",
    "num_validation_examples = test_val_split\n",
    "num_test_examples = num_validation_examples\n",
    "\n",
    "print('There are {:,} images in the training set'.format(num_training_examples))\n",
    "print('There are {:,} images in the validation set'.format(num_validation_examples))\n",
    "print('There are {:,} images in the test set'.format(num_test_examples))\n",
    "\n",
    "num_classes = dataset_info.features['label'].num_classes\n",
    "print('There are {:,} classes in our dataset'.format(num_classes))"
   ]
  },
  {
   "cell_type": "code",
   "execution_count": 5,
   "metadata": {},
   "outputs": [],
   "source": [
    "with open('label_map.json', 'r') as f:\n",
    "    class_names = json.load(f)"
   ]
  },
  {
   "cell_type": "code",
   "execution_count": 6,
   "metadata": {},
   "outputs": [],
   "source": [
    "def resize(image, label):\n",
    "    image = tf.cast(image, tf.float32)\n",
    "    image = tf.image.resize(image, [224,224], preserve_aspect_ratio=False)\n",
    "    image /= 255\n",
    "    return image, label\n",
    "\n",
    "batch_size = 32\n",
    "image_size = 224\n",
    "\n",
    "training_batches = training_set.cache().shuffle(num_training_examples//4).map(resize).batch(batch_size).prefetch(1)\n",
    "validation_batches = validation_set.cache().map(resize).batch(batch_size).prefetch(1)\n",
    "testing_batches = test_set.cache().map(resize).batch(batch_size).prefetch(1)"
   ]
  },
  {
   "cell_type": "markdown",
   "metadata": {},
   "source": [
    "## 3) Creating models, plots and test data evaluation"
   ]
  },
  {
   "cell_type": "code",
   "execution_count": 7,
   "metadata": {},
   "outputs": [],
   "source": [
    "pretrained_model = \"https://tfhub.dev/google/tf2-preview/mobilenet_v2/feature_vector/4\""
   ]
  },
  {
   "cell_type": "code",
   "execution_count": 8,
   "metadata": {},
   "outputs": [],
   "source": [
    "lr = 0.001\n",
    "\n",
    "decay_steps = 100000\n",
    "decay_rate = 0.95\n",
    "\n",
    "exp_lr_scheduler = tf.keras.optimizers.schedules.ExponentialDecay(lr, decay_steps, decay_rate)"
   ]
  },
  {
   "cell_type": "code",
   "execution_count": 9,
   "metadata": {},
   "outputs": [],
   "source": [
    "def plotter(history):\n",
    "    training_accuracy = history.history['accuracy']\n",
    "    validation_accuracy = history.history['val_accuracy']\n",
    " \n",
    "    training_loss = history.history['loss']\n",
    "    validation_loss = history.history['val_loss']\n",
    "\n",
    "    epochs_range=range(EPOCHS)\n",
    "\n",
    "    plt.figure(figsize=(8, 8))\n",
    "    plt.subplot(1, 2, 1)\n",
    "    plt.plot(epochs_range, training_accuracy, label='Training Accuracy')\n",
    "    plt.plot(epochs_range, validation_accuracy, label='Validation Accuracy')\n",
    "    plt.legend(loc='lower right')\n",
    "    plt.title('Training and Validation Accuracy')\n",
    "\n",
    "    plt.subplot(1, 2, 2)\n",
    "    plt.plot(epochs_range, training_loss, label='Training Loss')\n",
    "    plt.plot(epochs_range, validation_loss, label='Validation Loss')\n",
    "    plt.legend(loc='upper right')\n",
    "    plt.title('Training and Validation Loss')\n",
    "    plt.show()"
   ]
  },
  {
   "cell_type": "code",
   "execution_count": 10,
   "metadata": {},
   "outputs": [],
   "source": [
    "def summary_plot(pretrained_model,losses,accuracies):\n",
    "    plt.figure(figsize=(8, 8))\n",
    "    \n",
    "    plt.subplot(1, 2, 1)\n",
    "    plt.plot(all_optimizers, losses)\n",
    "    plt.xlabel(\"Gradient Descent Variants\")\n",
    "    plt.ylabel(\"Loss Values\")\n",
    "    plt.title('Testing Loss Summary')\n",
    "\n",
    "    plt.subplot(1, 2, 2)\n",
    "    plt.bar(all_optimizers, accuracies)\n",
    "    plt.xlabel(\"Gradient Descent Variants\")\n",
    "    plt.ylabel(\"Accuracy Values\")\n",
    "    plt.title('Testing Accuracy Summary')\n",
    "    \n",
    "    plt.show()\n",
    "    "
   ]
  },
  {
   "cell_type": "code",
   "execution_count": 11,
   "metadata": {},
   "outputs": [
    {
     "name": "stdout",
     "output_type": "stream",
     "text": [
      "Epoch 1/25\n",
      "154/154 [==============================] - 631s 4s/step - loss: 3.3015 - accuracy: 0.3289 - val_loss: 2.2167 - val_accuracy: 0.5973\n",
      "Epoch 2/25\n",
      "154/154 [==============================] - 649s 4s/step - loss: 1.8518 - accuracy: 0.6825 - val_loss: 1.5701 - val_accuracy: 0.7261\n",
      "Epoch 3/25\n",
      "154/154 [==============================] - 618s 4s/step - loss: 1.2907 - accuracy: 0.8020 - val_loss: 1.2265 - val_accuracy: 0.7944\n",
      "Epoch 4/25\n",
      "154/154 [==============================] - 613s 4s/step - loss: 0.9769 - accuracy: 0.8598 - val_loss: 1.0247 - val_accuracy: 0.8225\n",
      "Epoch 5/25\n",
      "154/154 [==============================] - 619s 4s/step - loss: 0.7777 - accuracy: 0.8919 - val_loss: 0.8946 - val_accuracy: 0.8420\n",
      "Epoch 6/25\n",
      "154/154 [==============================] - 614s 4s/step - loss: 0.6420 - accuracy: 0.9127 - val_loss: 0.7961 - val_accuracy: 0.8639\n",
      "Epoch 7/25\n",
      "154/154 [==============================] - 612s 4s/step - loss: 0.5401 - accuracy: 0.9288 - val_loss: 0.7246 - val_accuracy: 0.8621\n",
      "Epoch 8/25\n",
      "154/154 [==============================] - 634s 4s/step - loss: 0.4620 - accuracy: 0.9418 - val_loss: 0.6708 - val_accuracy: 0.8707\n",
      "Epoch 9/25\n",
      "154/154 [==============================] - 546s 4s/step - loss: 0.4005 - accuracy: 0.9544 - val_loss: 0.6219 - val_accuracy: 0.8780\n",
      "Epoch 10/25\n",
      "154/154 [==============================] - 506s 3s/step - loss: 0.3499 - accuracy: 0.9605 - val_loss: 0.5868 - val_accuracy: 0.8780\n",
      "Epoch 11/25\n",
      "154/154 [==============================] - 502s 3s/step - loss: 0.3078 - accuracy: 0.9676 - val_loss: 0.5611 - val_accuracy: 0.8822\n",
      "Epoch 12/25\n",
      "154/154 [==============================] - 501s 3s/step - loss: 0.2723 - accuracy: 0.9719 - val_loss: 0.5284 - val_accuracy: 0.8829\n",
      "Epoch 13/25\n",
      "154/154 [==============================] - 499s 3s/step - loss: 0.2417 - accuracy: 0.9764 - val_loss: 0.5107 - val_accuracy: 0.8908\n",
      "Epoch 14/25\n",
      "154/154 [==============================] - 501s 3s/step - loss: 0.2163 - accuracy: 0.9794 - val_loss: 0.4906 - val_accuracy: 0.8920\n",
      "Epoch 15/25\n",
      "154/154 [==============================] - 499s 3s/step - loss: 0.1938 - accuracy: 0.9835 - val_loss: 0.4724 - val_accuracy: 0.8944\n",
      "Epoch 16/25\n",
      "154/154 [==============================] - 498s 3s/step - loss: 0.1734 - accuracy: 0.9847 - val_loss: 0.4620 - val_accuracy: 0.8926\n",
      "Epoch 17/25\n",
      "154/154 [==============================] - 500s 3s/step - loss: 0.1565 - accuracy: 0.9878 - val_loss: 0.4486 - val_accuracy: 0.8944\n",
      "Epoch 18/25\n",
      "154/154 [==============================] - 499s 3s/step - loss: 0.1410 - accuracy: 0.9896 - val_loss: 0.4407 - val_accuracy: 0.8932\n",
      "Epoch 19/25\n",
      "154/154 [==============================] - 498s 3s/step - loss: 0.1278 - accuracy: 0.9898 - val_loss: 0.4293 - val_accuracy: 0.8975\n",
      "Epoch 20/25\n",
      "154/154 [==============================] - 497s 3s/step - loss: 0.1153 - accuracy: 0.9933 - val_loss: 0.4185 - val_accuracy: 0.9005\n",
      "Epoch 21/25\n",
      "154/154 [==============================] - 496s 3s/step - loss: 0.1044 - accuracy: 0.9943 - val_loss: 0.4133 - val_accuracy: 0.8993\n",
      "Epoch 22/25\n",
      "154/154 [==============================] - 496s 3s/step - loss: 0.0949 - accuracy: 0.9955 - val_loss: 0.4033 - val_accuracy: 0.9024\n",
      "Epoch 23/25\n",
      "154/154 [==============================] - 479s 3s/step - loss: 0.0861 - accuracy: 0.9967 - val_loss: 0.4006 - val_accuracy: 0.8969\n",
      "Epoch 24/25\n",
      "154/154 [==============================] - 468s 3s/step - loss: 0.0788 - accuracy: 0.9969 - val_loss: 0.3929 - val_accuracy: 0.9030\n",
      "Epoch 25/25\n",
      "154/154 [==============================] - 467s 3s/step - loss: 0.0716 - accuracy: 0.9980 - val_loss: 0.3857 - val_accuracy: 0.9005\n"
     ]
    },
    {
     "data": {
      "image/png": "[encoded data removed]",
      "text/plain": [
       "<Figure size 576x576 with 2 Axes>"
      ]
     },
     "metadata": {
      "needs_background": "light"
     },
     "output_type": "display_data"
    },
    {
     "name": "stdout",
     "output_type": "stream",
     "text": [
      "52/52 [==============================] - 95s 2s/step - loss: 0.3572 - accuracy: 0.9029\n",
      "\n",
      "Loss on the TEST Set: 0.357\n",
      "\n",
      "Accuracy on the TEST Set: 90.287%\n"
     ]
    }
   ],
   "source": [
    "EPOCHS = 25\n",
    "\n",
    "feature_extractor = hub.KerasLayer(pretrained_model, input_shape=(image_size, image_size,3))\n",
    "feature_extractor.trainable = False\n",
    "model = tf.keras.Sequential([\n",
    "        feature_extractor,\n",
    "        tf.keras.layers.Dense(num_classes, activation ='softmax')])\n",
    "    \n",
    "           \n",
    "model.compile(optimizer=tf.keras.optimizers.Adamax(learning_rate=exp_lr_scheduler),\n",
    "              loss='sparse_categorical_crossentropy',\n",
    "              metrics=['accuracy'])\n",
    "        \n",
    "\n",
    "history = model.fit(training_batches,\n",
    "                    epochs = EPOCHS,\n",
    "                    validation_data=validation_batches) \n",
    "        \n",
    "\n",
    "        \n",
    "plotter(history)\n",
    "        \n",
    "loss, accuracy = model.evaluate(testing_batches)\n",
    "        \n",
    "       \n",
    "print('\\nLoss on the TEST Set: {:,.3f}'.format(loss))\n",
    "print('\\nAccuracy on the TEST Set: {:.3%}'.format(accuracy))\n",
    "        \n",
    "    "
   ]
  }
 ],
 "metadata": {
  "kernelspec": {
   "display_name": "Python 3",
   "language": "python",
   "name": "python3"
  },
  "language_info": {
   "codemirror_mode": {
    "name": "ipython",
    "version": 3
   },
   "file_extension": ".py",
   "mimetype": "text/x-python",
   "name": "python",
   "nbconvert_exporter": "python",
   "pygments_lexer": "ipython3",
   "version": "3.7.9"
  }
 },
 "nbformat": 4,
 "nbformat_minor": 4
}
