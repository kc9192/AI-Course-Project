{
 "cells": [
  {
   "cell_type": "markdown",
   "metadata": {},
   "source": [
    "# oxford_flowers102 with mobilenet and adagrad"
   ]
  },
  {
   "cell_type": "markdown",
   "metadata": {},
   "source": [
    "## 1) Importing the libraries"
   ]
  },
  {
   "cell_type": "code",
   "execution_count": 1,
   "metadata": {},
   "outputs": [],
   "source": [
    "import matplotlib.pyplot as plt\n",
    "import numpy as np\n",
    "import tensorflow as tf\n",
    "import json\n",
    "import tensorflow_hub as hub\n",
    "import tensorflow_datasets as tfds\n",
    "tfds.disable_progress_bar()"
   ]
  },
  {
   "cell_type": "markdown",
   "metadata": {},
   "source": [
    "## 2) Loading and summarizing data and creating data pipelines"
   ]
  },
  {
   "cell_type": "code",
   "execution_count": 2,
   "metadata": {},
   "outputs": [],
   "source": [
    "data, dataset_info = tfds.load('oxford_flowers102', split='train+test+validation', as_supervised = True, with_info = True)\n",
    "datalen = [i for i,_ in enumerate(data)][-1] + 1\n",
    "datalen\n",
    "\n",
    "train_split = int(0.6*datalen)\n",
    "test_val_split = int(0.2*datalen)\n",
    "test_val_split = int(0.2*datalen)\n",
    "\n",
    "training_set = data.take(train_split)\n",
    "test_set = data.skip(train_split)\n",
    "validation_set = test_set.skip(test_val_split)\n",
    "test_set = test_set.take(test_val_split)\n",
    "\n",
    "dataset=training_set,validation_set,test_set"
   ]
  },
  {
   "cell_type": "code",
   "execution_count": 3,
   "metadata": {},
   "outputs": [
    {
     "data": {
      "text/plain": [
       "tfds.core.DatasetInfo(\n",
       "    name='oxford_flowers102',\n",
       "    version=2.1.1,\n",
       "    description='The Oxford Flowers 102 dataset is a consistent of 102 flower categories commonly occurring\n",
       "in the United Kingdom. Each class consists of between 40 and 258 images. The images have\n",
       "large scale, pose and light variations. In addition, there are categories that have large\n",
       "variations within the category and several very similar categories.\n",
       "\n",
       "The dataset is divided into a training set, a validation set and a test set.\n",
       "The training set and validation set each consist of 10 images per class (totalling 1020 images each).\n",
       "The test set consists of the remaining 6149 images (minimum 20 per class).',\n",
       "    homepage='https://www.robots.ox.ac.uk/~vgg/data/flowers/102/',\n",
       "    features=FeaturesDict({\n",
       "        'file_name': Text(shape=(), dtype=tf.string),\n",
       "        'image': Image(shape=(None, None, 3), dtype=tf.uint8),\n",
       "        'label': ClassLabel(shape=(), dtype=tf.int64, num_classes=102),\n",
       "    }),\n",
       "    total_num_examples=8189,\n",
       "    splits={\n",
       "        'test': 6149,\n",
       "        'train': 1020,\n",
       "        'validation': 1020,\n",
       "    },\n",
       "    supervised_keys=('image', 'label'),\n",
       "    citation=\"\"\"@InProceedings{Nilsback08,\n",
       "       author = \"Nilsback, M-E. and Zisserman, A.\",\n",
       "       title = \"Automated Flower Classification over a Large Number of Classes\",\n",
       "       booktitle = \"Proceedings of the Indian Conference on Computer Vision, Graphics and Image Processing\",\n",
       "       year = \"2008\",\n",
       "       month = \"Dec\"\n",
       "    }\"\"\",\n",
       "    redistribution_info=,\n",
       ")"
      ]
     },
     "execution_count": 3,
     "metadata": {},
     "output_type": "execute_result"
    }
   ],
   "source": [
    "dataset_info"
   ]
  },
  {
   "cell_type": "markdown",
   "metadata": {},
   "source": [
    "### From the above datset_info we can see that the data is split into train, test and validation batches and each image has features like filename, label and image itself(255 pixels) which can be harnessed whenever needed"
   ]
  },
  {
   "cell_type": "code",
   "execution_count": 4,
   "metadata": {},
   "outputs": [
    {
     "name": "stdout",
     "output_type": "stream",
     "text": [
      "There are 4,913 images in the training set\n",
      "There are 1,637 images in the validation set\n",
      "There are 1,637 images in the test set\n",
      "There are 102 classes in our dataset\n"
     ]
    }
   ],
   "source": [
    "total_examples = dataset_info.splits['train'].num_examples + dataset_info.splits['test'].num_examples + dataset_info.splits['validation'].num_examples\n",
    "\n",
    "num_training_examples = train_split\n",
    "num_validation_examples = test_val_split\n",
    "num_test_examples = num_validation_examples\n",
    "\n",
    "print('There are {:,} images in the training set'.format(num_training_examples))\n",
    "print('There are {:,} images in the validation set'.format(num_validation_examples))\n",
    "print('There are {:,} images in the test set'.format(num_test_examples))\n",
    "\n",
    "num_classes = dataset_info.features['label'].num_classes\n",
    "print('There are {:,} classes in our dataset'.format(num_classes))"
   ]
  },
  {
   "cell_type": "code",
   "execution_count": 5,
   "metadata": {},
   "outputs": [],
   "source": [
    "with open('label_map.json', 'r') as f:\n",
    "    class_names = json.load(f)"
   ]
  },
  {
   "cell_type": "code",
   "execution_count": 6,
   "metadata": {},
   "outputs": [],
   "source": [
    "def resize(image, label):\n",
    "    image = tf.cast(image, tf.float32)\n",
    "    image = tf.image.resize(image, [224,224], preserve_aspect_ratio=False)\n",
    "    image /= 255\n",
    "    return image, label\n",
    "\n",
    "batch_size = 32\n",
    "image_size = 224\n",
    "\n",
    "training_batches = training_set.cache().shuffle(num_training_examples//4).map(resize).batch(batch_size).prefetch(1)\n",
    "validation_batches = validation_set.cache().map(resize).batch(batch_size).prefetch(1)\n",
    "testing_batches = test_set.cache().map(resize).batch(batch_size).prefetch(1)"
   ]
  },
  {
   "cell_type": "markdown",
   "metadata": {},
   "source": [
    "## 3) Creating models, plots and test data evaluation"
   ]
  },
  {
   "cell_type": "code",
   "execution_count": 7,
   "metadata": {},
   "outputs": [],
   "source": [
    "pretrained_model = \"https://tfhub.dev/google/imagenet/inception_v3/feature_vector/4\""
   ]
  },
  {
   "cell_type": "code",
   "execution_count": 8,
   "metadata": {},
   "outputs": [],
   "source": [
    "lr = 0.001\n",
    "\n",
    "decay_steps = 100000\n",
    "decay_rate = 0.95\n",
    "\n",
    "exp_lr_scheduler = tf.keras.optimizers.schedules.ExponentialDecay(lr, decay_steps, decay_rate)"
   ]
  },
  {
   "cell_type": "code",
   "execution_count": 9,
   "metadata": {},
   "outputs": [],
   "source": [
    "def plotter(history):\n",
    "    training_accuracy = history.history['accuracy']\n",
    "    validation_accuracy = history.history['val_accuracy']\n",
    " \n",
    "    training_loss = history.history['loss']\n",
    "    validation_loss = history.history['val_loss']\n",
    "\n",
    "    epochs_range=range(EPOCHS)\n",
    "\n",
    "    plt.figure(figsize=(8, 8))\n",
    "    plt.subplot(1, 2, 1)\n",
    "    plt.plot(epochs_range, training_accuracy, label='Training Accuracy')\n",
    "    plt.plot(epochs_range, validation_accuracy, label='Validation Accuracy')\n",
    "    plt.legend(loc='lower right')\n",
    "    plt.title('Training and Validation Accuracy')\n",
    "\n",
    "    plt.subplot(1, 2, 2)\n",
    "    plt.plot(epochs_range, training_loss, label='Training Loss')\n",
    "    plt.plot(epochs_range, validation_loss, label='Validation Loss')\n",
    "    plt.legend(loc='upper right')\n",
    "    plt.title('Training and Validation Loss')\n",
    "    plt.show()"
   ]
  },
  {
   "cell_type": "code",
   "execution_count": 10,
   "metadata": {},
   "outputs": [],
   "source": [
    "def summary_plot(pretrained_model,losses,accuracies):\n",
    "    plt.figure(figsize=(8, 8))\n",
    "    \n",
    "    plt.subplot(1, 2, 1)\n",
    "    plt.plot(all_optimizers, losses)\n",
    "    plt.xlabel(\"Gradient Descent Variants\")\n",
    "    plt.ylabel(\"Loss Values\")\n",
    "    plt.title('Testing Loss Summary')\n",
    "\n",
    "    plt.subplot(1, 2, 2)\n",
    "    plt.bar(all_optimizers, accuracies)\n",
    "    plt.xlabel(\"Gradient Descent Variants\")\n",
    "    plt.ylabel(\"Accuracy Values\")\n",
    "    plt.title('Testing Accuracy Summary')\n",
    "    \n",
    "    plt.show()\n",
    "    "
   ]
  },
  {
   "cell_type": "code",
   "execution_count": 11,
   "metadata": {},
   "outputs": [
    {
     "name": "stdout",
     "output_type": "stream",
     "text": [
      "Epoch 1/25\n",
      "154/154 [==============================] - 1138s 7s/step - loss: 4.5394 - accuracy: 0.0501 - val_loss: 4.0935 - val_accuracy: 0.1354\n",
      "Epoch 2/25\n",
      "154/154 [==============================] - 1171s 8s/step - loss: 4.0264 - accuracy: 0.1465 - val_loss: 3.7231 - val_accuracy: 0.2196\n",
      "Epoch 3/25\n",
      "154/154 [==============================] - 1149s 7s/step - loss: 3.6949 - accuracy: 0.2190 - val_loss: 3.4481 - val_accuracy: 0.2953\n",
      "Epoch 4/25\n",
      "154/154 [==============================] - 1141s 7s/step - loss: 3.4314 - accuracy: 0.2821 - val_loss: 3.2261 - val_accuracy: 0.3514\n",
      "Epoch 5/25\n",
      "154/154 [==============================] - 1149s 7s/step - loss: 3.2118 - accuracy: 0.3342 - val_loss: 3.0421 - val_accuracy: 0.3868\n",
      "Epoch 6/25\n",
      "154/154 [==============================] - 1139s 7s/step - loss: 3.0269 - accuracy: 0.3845 - val_loss: 2.8870 - val_accuracy: 0.4240\n",
      "Epoch 7/25\n",
      "154/154 [==============================] - 1148s 7s/step - loss: 2.8666 - accuracy: 0.4238 - val_loss: 2.7532 - val_accuracy: 0.4619\n",
      "Epoch 8/25\n",
      "154/154 [==============================] - 1120s 7s/step - loss: 2.7257 - accuracy: 0.4582 - val_loss: 2.6368 - val_accuracy: 0.4869\n",
      "Epoch 9/25\n",
      "154/154 [==============================] - 1131s 7s/step - loss: 2.6019 - accuracy: 0.4922 - val_loss: 2.5328 - val_accuracy: 0.5143\n",
      "Epoch 10/25\n",
      "154/154 [==============================] - 1146s 7s/step - loss: 2.4906 - accuracy: 0.5186 - val_loss: 2.4405 - val_accuracy: 0.5375\n",
      "Epoch 11/25\n",
      "154/154 [==============================] - 1165s 8s/step - loss: 2.3914 - accuracy: 0.5449 - val_loss: 2.3580 - val_accuracy: 0.5516\n",
      "Epoch 12/25\n",
      "154/154 [==============================] - 1187s 8s/step - loss: 2.3014 - accuracy: 0.5705 - val_loss: 2.2822 - val_accuracy: 0.5699\n",
      "Epoch 13/25\n",
      "154/154 [==============================] - 1302s 8s/step - loss: 2.2196 - accuracy: 0.5888 - val_loss: 2.2136 - val_accuracy: 0.5876\n",
      "Epoch 14/25\n",
      "154/154 [==============================] - 1301s 8s/step - loss: 2.1449 - accuracy: 0.6088 - val_loss: 2.1519 - val_accuracy: 0.5979\n",
      "Epoch 15/25\n",
      "154/154 [==============================] - 1242s 8s/step - loss: 2.0764 - accuracy: 0.6255 - val_loss: 2.0944 - val_accuracy: 0.6089\n",
      "Epoch 16/25\n",
      "154/154 [==============================] - 1222s 8s/step - loss: 2.0135 - accuracy: 0.6399 - val_loss: 2.0418 - val_accuracy: 0.6236\n",
      "Epoch 17/25\n",
      "154/154 [==============================] - 1218s 8s/step - loss: 1.9555 - accuracy: 0.6540 - val_loss: 1.9954 - val_accuracy: 0.6376\n",
      "Epoch 18/25\n",
      "154/154 [==============================] - 1183s 8s/step - loss: 1.9010 - accuracy: 0.6688 - val_loss: 1.9490 - val_accuracy: 0.6412\n",
      "Epoch 19/25\n",
      "154/154 [==============================] - 1222s 8s/step - loss: 1.8511 - accuracy: 0.6821 - val_loss: 1.9073 - val_accuracy: 0.6467\n",
      "Epoch 20/25\n",
      "154/154 [==============================] - 1484s 10s/step - loss: 1.8040 - accuracy: 0.6908 - val_loss: 1.8688 - val_accuracy: 0.6547\n",
      "Epoch 21/25\n",
      "154/154 [==============================] - 1875s 12s/step - loss: 1.7604 - accuracy: 0.7010 - val_loss: 1.8311 - val_accuracy: 0.6638\n",
      "Epoch 22/25\n",
      "154/154 [==============================] - 1869s 12s/step - loss: 1.7191 - accuracy: 0.7087 - val_loss: 1.7971 - val_accuracy: 0.6742\n",
      "Epoch 23/25\n",
      "154/154 [==============================] - 1894s 12s/step - loss: 1.6806 - accuracy: 0.7177 - val_loss: 1.7653 - val_accuracy: 0.6803\n",
      "Epoch 24/25\n",
      "154/154 [==============================] - 1911s 12s/step - loss: 1.6439 - accuracy: 0.7244 - val_loss: 1.7349 - val_accuracy: 0.6901\n",
      "Epoch 25/25\n",
      "154/154 [==============================] - 1925s 12s/step - loss: 1.6095 - accuracy: 0.7297 - val_loss: 1.7071 - val_accuracy: 0.6925\n"
     ]
    },
    {
     "data": {
      "image/png": "[encoded data removed]",
      "text/plain": [
       "<Figure size 576x576 with 2 Axes>"
      ]
     },
     "metadata": {
      "needs_background": "light"
     },
     "output_type": "display_data"
    },
    {
     "name": "stdout",
     "output_type": "stream",
     "text": [
      "52/52 [==============================] - 261s 5s/step - loss: 1.7602 - accuracy: 0.6683\n",
      "\n",
      "Loss on the TEST Set: 1.760\n",
      "\n",
      "Accuracy on the TEST Set: 66.830%\n"
     ]
    }
   ],
   "source": [
    "EPOCHS = 25\n",
    "\n",
    "feature_extractor = hub.KerasLayer(pretrained_model, input_shape=(image_size, image_size,3))\n",
    "feature_extractor.trainable = False\n",
    "model = tf.keras.Sequential([\n",
    "        feature_extractor,\n",
    "        tf.keras.layers.Dense(num_classes, activation ='softmax')])\n",
    "    \n",
    "           \n",
    "model.compile(optimizer=tf.keras.optimizers.Adagrad(learning_rate=exp_lr_scheduler),\n",
    "              loss='sparse_categorical_crossentropy',\n",
    "              metrics=['accuracy'])\n",
    "        \n",
    "\n",
    "history = model.fit(training_batches,\n",
    "                    epochs = EPOCHS,\n",
    "                    validation_data=validation_batches) \n",
    "        \n",
    "\n",
    "        \n",
    "plotter(history)\n",
    "        \n",
    "loss, accuracy = model.evaluate(testing_batches)\n",
    "        \n",
    "       \n",
    "print('\\nLoss on the TEST Set: {:,.3f}'.format(loss))\n",
    "print('\\nAccuracy on the TEST Set: {:.3%}'.format(accuracy))\n",
    "        \n",
    "    "
   ]
  }
 ],
 "metadata": {
  "kernelspec": {
   "display_name": "Python 3",
   "language": "python",
   "name": "python3"
  },
  "language_info": {
   "codemirror_mode": {
    "name": "ipython",
    "version": 3
   },
   "file_extension": ".py",
   "mimetype": "text/x-python",
   "name": "python",
   "nbconvert_exporter": "python",
   "pygments_lexer": "ipython3",
   "version": "3.7.9"
  }
 },
 "nbformat": 4,
 "nbformat_minor": 4
}
