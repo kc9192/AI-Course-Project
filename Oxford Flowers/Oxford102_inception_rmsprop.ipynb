{
 "cells": [
  {
   "cell_type": "markdown",
   "metadata": {},
   "source": [
    "# oxford_flowers102 with mobilenet and RMSprop"
   ]
  },
  {
   "cell_type": "markdown",
   "metadata": {},
   "source": [
    "## 1) Importing the libraries"
   ]
  },
  {
   "cell_type": "code",
   "execution_count": 1,
   "metadata": {},
   "outputs": [],
   "source": [
    "import matplotlib.pyplot as plt\n",
    "import numpy as np\n",
    "import tensorflow as tf\n",
    "import json\n",
    "import tensorflow_hub as hub\n",
    "import tensorflow_datasets as tfds\n",
    "tfds.disable_progress_bar()"
   ]
  },
  {
   "cell_type": "markdown",
   "metadata": {},
   "source": [
    "## 2) Loading and summarizing data and creating data pipelines"
   ]
  },
  {
   "cell_type": "code",
   "execution_count": 2,
   "metadata": {},
   "outputs": [],
   "source": [
    "data, dataset_info = tfds.load('oxford_flowers102', split='train+test+validation', as_supervised = True, with_info = True)\n",
    "datalen = [i for i,_ in enumerate(data)][-1] + 1\n",
    "datalen\n",
    "\n",
    "train_split = int(0.6*datalen)\n",
    "test_val_split = int(0.2*datalen)\n",
    "test_val_split = int(0.2*datalen)\n",
    "\n",
    "training_set = data.take(train_split)\n",
    "test_set = data.skip(train_split)\n",
    "validation_set = test_set.skip(test_val_split)\n",
    "test_set = test_set.take(test_val_split)\n",
    "\n",
    "dataset=training_set,validation_set,test_set"
   ]
  },
  {
   "cell_type": "code",
   "execution_count": 3,
   "metadata": {},
   "outputs": [
    {
     "data": {
      "text/plain": [
       "tfds.core.DatasetInfo(\n",
       "    name='oxford_flowers102',\n",
       "    version=2.1.1,\n",
       "    description='The Oxford Flowers 102 dataset is a consistent of 102 flower categories commonly occurring\n",
       "in the United Kingdom. Each class consists of between 40 and 258 images. The images have\n",
       "large scale, pose and light variations. In addition, there are categories that have large\n",
       "variations within the category and several very similar categories.\n",
       "\n",
       "The dataset is divided into a training set, a validation set and a test set.\n",
       "The training set and validation set each consist of 10 images per class (totalling 1020 images each).\n",
       "The test set consists of the remaining 6149 images (minimum 20 per class).',\n",
       "    homepage='https://www.robots.ox.ac.uk/~vgg/data/flowers/102/',\n",
       "    features=FeaturesDict({\n",
       "        'file_name': Text(shape=(), dtype=tf.string),\n",
       "        'image': Image(shape=(None, None, 3), dtype=tf.uint8),\n",
       "        'label': ClassLabel(shape=(), dtype=tf.int64, num_classes=102),\n",
       "    }),\n",
       "    total_num_examples=8189,\n",
       "    splits={\n",
       "        'test': 6149,\n",
       "        'train': 1020,\n",
       "        'validation': 1020,\n",
       "    },\n",
       "    supervised_keys=('image', 'label'),\n",
       "    citation=\"\"\"@InProceedings{Nilsback08,\n",
       "       author = \"Nilsback, M-E. and Zisserman, A.\",\n",
       "       title = \"Automated Flower Classification over a Large Number of Classes\",\n",
       "       booktitle = \"Proceedings of the Indian Conference on Computer Vision, Graphics and Image Processing\",\n",
       "       year = \"2008\",\n",
       "       month = \"Dec\"\n",
       "    }\"\"\",\n",
       "    redistribution_info=,\n",
       ")"
      ]
     },
     "execution_count": 3,
     "metadata": {},
     "output_type": "execute_result"
    }
   ],
   "source": [
    "dataset_info"
   ]
  },
  {
   "cell_type": "markdown",
   "metadata": {},
   "source": [
    "### From the above datset_info we can see that the data is split into train, test and validation batches and each image has features like filename, label and image itself(255 pixels) which can be harnessed whenever needed"
   ]
  },
  {
   "cell_type": "code",
   "execution_count": 4,
   "metadata": {},
   "outputs": [
    {
     "name": "stdout",
     "output_type": "stream",
     "text": [
      "There are 4,913 images in the training set\n",
      "There are 1,637 images in the validation set\n",
      "There are 1,637 images in the test set\n",
      "There are 102 classes in our dataset\n"
     ]
    }
   ],
   "source": [
    "total_examples = dataset_info.splits['train'].num_examples + dataset_info.splits['test'].num_examples + dataset_info.splits['validation'].num_examples\n",
    "\n",
    "num_training_examples = train_split\n",
    "num_validation_examples = test_val_split\n",
    "num_test_examples = num_validation_examples\n",
    "\n",
    "print('There are {:,} images in the training set'.format(num_training_examples))\n",
    "print('There are {:,} images in the validation set'.format(num_validation_examples))\n",
    "print('There are {:,} images in the test set'.format(num_test_examples))\n",
    "\n",
    "num_classes = dataset_info.features['label'].num_classes\n",
    "print('There are {:,} classes in our dataset'.format(num_classes))"
   ]
  },
  {
   "cell_type": "code",
   "execution_count": 5,
   "metadata": {},
   "outputs": [],
   "source": [
    "with open('label_map.json', 'r') as f:\n",
    "    class_names = json.load(f)"
   ]
  },
  {
   "cell_type": "code",
   "execution_count": 6,
   "metadata": {},
   "outputs": [],
   "source": [
    "def resize(image, label):\n",
    "    image = tf.cast(image, tf.float32)\n",
    "    image = tf.image.resize(image, [224,224], preserve_aspect_ratio=False)\n",
    "    image /= 255\n",
    "    return image, label\n",
    "\n",
    "batch_size = 32\n",
    "image_size = 224\n",
    "\n",
    "training_batches = training_set.cache().shuffle(num_training_examples//4).map(resize).batch(batch_size).prefetch(1)\n",
    "validation_batches = validation_set.cache().map(resize).batch(batch_size).prefetch(1)\n",
    "testing_batches = test_set.cache().map(resize).batch(batch_size).prefetch(1)"
   ]
  },
  {
   "cell_type": "markdown",
   "metadata": {},
   "source": [
    "## 3) Creating models, plots and test data evaluation"
   ]
  },
  {
   "cell_type": "code",
   "execution_count": 7,
   "metadata": {},
   "outputs": [],
   "source": [
    "pretrained_model = \"https://tfhub.dev/google/imagenet/inception_v3/feature_vector/4\""
   ]
  },
  {
   "cell_type": "code",
   "execution_count": 8,
   "metadata": {},
   "outputs": [],
   "source": [
    "lr = 0.001\n",
    "\n",
    "decay_steps = 100000\n",
    "decay_rate = 0.95\n",
    "\n",
    "exp_lr_scheduler = tf.keras.optimizers.schedules.ExponentialDecay(lr, decay_steps, decay_rate)"
   ]
  },
  {
   "cell_type": "code",
   "execution_count": 9,
   "metadata": {},
   "outputs": [],
   "source": [
    "def plotter(history):\n",
    "    training_accuracy = history.history['accuracy']\n",
    "    validation_accuracy = history.history['val_accuracy']\n",
    " \n",
    "    training_loss = history.history['loss']\n",
    "    validation_loss = history.history['val_loss']\n",
    "\n",
    "    epochs_range=range(EPOCHS)\n",
    "\n",
    "    plt.figure(figsize=(8, 8))\n",
    "    plt.subplot(1, 2, 1)\n",
    "    plt.plot(epochs_range, training_accuracy, label='Training Accuracy')\n",
    "    plt.plot(epochs_range, validation_accuracy, label='Validation Accuracy')\n",
    "    plt.legend(loc='lower right')\n",
    "    plt.title('Training and Validation Accuracy')\n",
    "\n",
    "    plt.subplot(1, 2, 2)\n",
    "    plt.plot(epochs_range, training_loss, label='Training Loss')\n",
    "    plt.plot(epochs_range, validation_loss, label='Validation Loss')\n",
    "    plt.legend(loc='upper right')\n",
    "    plt.title('Training and Validation Loss')\n",
    "    plt.show()"
   ]
  },
  {
   "cell_type": "code",
   "execution_count": 10,
   "metadata": {},
   "outputs": [],
   "source": [
    "def summary_plot(pretrained_model,losses,accuracies):\n",
    "    plt.figure(figsize=(8, 8))\n",
    "    \n",
    "    plt.subplot(1, 2, 1)\n",
    "    plt.plot(all_optimizers, losses)\n",
    "    plt.xlabel(\"Gradient Descent Variants\")\n",
    "    plt.ylabel(\"Loss Values\")\n",
    "    plt.title('Testing Loss Summary')\n",
    "\n",
    "    plt.subplot(1, 2, 2)\n",
    "    plt.bar(all_optimizers, accuracies)\n",
    "    plt.xlabel(\"Gradient Descent Variants\")\n",
    "    plt.ylabel(\"Accuracy Values\")\n",
    "    plt.title('Testing Accuracy Summary')\n",
    "    \n",
    "    plt.show()\n",
    "    "
   ]
  },
  {
   "cell_type": "code",
   "execution_count": 11,
   "metadata": {},
   "outputs": [
    {
     "name": "stdout",
     "output_type": "stream",
     "text": [
      "Epoch 1/25\n",
      "154/154 [==============================] - 1130s 7s/step - loss: 2.4564 - accuracy: 0.4407 - val_loss: 1.2507 - val_accuracy: 0.7029\n",
      "Epoch 2/25\n",
      "154/154 [==============================] - 1173s 8s/step - loss: 0.8723 - accuracy: 0.7804 - val_loss: 0.9517 - val_accuracy: 0.7486\n",
      "Epoch 3/25\n",
      "154/154 [==============================] - 1105s 7s/step - loss: 0.5130 - accuracy: 0.8687 - val_loss: 0.7916 - val_accuracy: 0.7901\n",
      "Epoch 4/25\n",
      "154/154 [==============================] - 1129s 7s/step - loss: 0.3369 - accuracy: 0.9115 - val_loss: 0.6883 - val_accuracy: 0.8170\n",
      "Epoch 5/25\n",
      "154/154 [==============================] - 1145s 7s/step - loss: 0.2308 - accuracy: 0.9430 - val_loss: 0.6621 - val_accuracy: 0.8176\n",
      "Epoch 6/25\n",
      "154/154 [==============================] - 1123s 7s/step - loss: 0.1572 - accuracy: 0.9648 - val_loss: 0.6749 - val_accuracy: 0.8249\n",
      "Epoch 7/25\n",
      "154/154 [==============================] - 1149s 7s/step - loss: 0.1184 - accuracy: 0.9733 - val_loss: 0.6468 - val_accuracy: 0.8292\n",
      "Epoch 8/25\n",
      "154/154 [==============================] - 1143s 7s/step - loss: 0.0839 - accuracy: 0.9837 - val_loss: 0.6644 - val_accuracy: 0.8304\n",
      "Epoch 9/25\n",
      "154/154 [==============================] - 1146s 7s/step - loss: 0.0628 - accuracy: 0.9890 - val_loss: 0.7004 - val_accuracy: 0.8127\n",
      "Epoch 10/25\n",
      "154/154 [==============================] - 1160s 8s/step - loss: 0.0467 - accuracy: 0.9927 - val_loss: 0.6953 - val_accuracy: 0.8316\n",
      "Epoch 11/25\n",
      "154/154 [==============================] - 1152s 7s/step - loss: 0.0344 - accuracy: 0.9967 - val_loss: 0.7240 - val_accuracy: 0.8206\n",
      "Epoch 12/25\n",
      "154/154 [==============================] - 1204s 8s/step - loss: 0.0268 - accuracy: 0.9969 - val_loss: 0.7075 - val_accuracy: 0.8365\n",
      "Epoch 13/25\n",
      "154/154 [==============================] - 1297s 8s/step - loss: 0.0199 - accuracy: 0.9986 - val_loss: 0.6902 - val_accuracy: 0.8334\n",
      "Epoch 14/25\n",
      "154/154 [==============================] - 1309s 8s/step - loss: 0.0157 - accuracy: 0.9990 - val_loss: 0.7544 - val_accuracy: 0.8298\n",
      "Epoch 15/25\n",
      "154/154 [==============================] - 1239s 8s/step - loss: 0.0116 - accuracy: 0.9990 - val_loss: 0.6684 - val_accuracy: 0.8432\n",
      "Epoch 16/25\n",
      "154/154 [==============================] - 1226s 8s/step - loss: 0.0090 - accuracy: 0.9996 - val_loss: 0.7069 - val_accuracy: 0.8493\n",
      "Epoch 17/25\n",
      "154/154 [==============================] - 1212s 8s/step - loss: 0.0072 - accuracy: 0.9996 - val_loss: 0.7289 - val_accuracy: 0.8408\n",
      "Epoch 18/25\n",
      "154/154 [==============================] - 1183s 8s/step - loss: 0.0057 - accuracy: 0.9996 - val_loss: 0.7165 - val_accuracy: 0.8481\n",
      "Epoch 19/25\n",
      "154/154 [==============================] - 1223s 8s/step - loss: 0.0048 - accuracy: 0.9994 - val_loss: 0.7668 - val_accuracy: 0.8408\n",
      "Epoch 20/25\n",
      "154/154 [==============================] - 1481s 10s/step - loss: 0.0033 - accuracy: 1.0000 - val_loss: 0.7206 - val_accuracy: 0.8444\n",
      "Epoch 21/25\n",
      "154/154 [==============================] - 1873s 12s/step - loss: 0.0028 - accuracy: 1.0000 - val_loss: 0.7520 - val_accuracy: 0.8475\n",
      "Epoch 22/25\n",
      "154/154 [==============================] - 1870s 12s/step - loss: 0.0025 - accuracy: 1.0000 - val_loss: 0.7606 - val_accuracy: 0.8536\n",
      "Epoch 23/25\n",
      "154/154 [==============================] - 1896s 12s/step - loss: 0.0017 - accuracy: 1.0000 - val_loss: 0.7880 - val_accuracy: 0.8475\n",
      "Epoch 24/25\n",
      "154/154 [==============================] - 1910s 12s/step - loss: 0.0013 - accuracy: 1.0000 - val_loss: 0.8182 - val_accuracy: 0.8359\n",
      "Epoch 25/25\n",
      "154/154 [==============================] - 1923s 12s/step - loss: 0.0011 - accuracy: 1.0000 - val_loss: 0.8048 - val_accuracy: 0.8438\n"
     ]
    },
    {
     "data": {
      "image/png": "[encoded data removed]",
      "text/plain": [
       "<Figure size 576x576 with 2 Axes>"
      ]
     },
     "metadata": {
      "needs_background": "light"
     },
     "output_type": "display_data"
    },
    {
     "name": "stdout",
     "output_type": "stream",
     "text": [
      "52/52 [==============================] - 261s 5s/step - loss: 0.6996 - accuracy: 0.8479\n",
      "\n",
      "Loss on the TEST Set: 0.700\n",
      "\n",
      "Accuracy on the TEST Set: 84.789%\n"
     ]
    }
   ],
   "source": [
    "EPOCHS = 25\n",
    "\n",
    "feature_extractor = hub.KerasLayer(pretrained_model, input_shape=(image_size, image_size,3))\n",
    "feature_extractor.trainable = False\n",
    "model = tf.keras.Sequential([\n",
    "        feature_extractor,\n",
    "        tf.keras.layers.Dense(num_classes, activation ='softmax')])\n",
    "    \n",
    "           \n",
    "model.compile(optimizer=tf.keras.optimizers.RMSprop(learning_rate=exp_lr_scheduler),\n",
    "              loss='sparse_categorical_crossentropy',\n",
    "              metrics=['accuracy'])\n",
    "        \n",
    "\n",
    "history = model.fit(training_batches,\n",
    "                    epochs = EPOCHS,\n",
    "                    validation_data=validation_batches) \n",
    "        \n",
    "\n",
    "        \n",
    "plotter(history)\n",
    "        \n",
    "loss, accuracy = model.evaluate(testing_batches)\n",
    "        \n",
    "       \n",
    "print('\\nLoss on the TEST Set: {:,.3f}'.format(loss))\n",
    "print('\\nAccuracy on the TEST Set: {:.3%}'.format(accuracy))\n",
    "        \n",
    "    "
   ]
  }
 ],
 "metadata": {
  "kernelspec": {
   "display_name": "Python 3",
   "language": "python",
   "name": "python3"
  },
  "language_info": {
   "codemirror_mode": {
    "name": "ipython",
    "version": 3
   },
   "file_extension": ".py",
   "mimetype": "text/x-python",
   "name": "python",
   "nbconvert_exporter": "python",
   "pygments_lexer": "ipython3",
   "version": "3.7.9"
  }
 },
 "nbformat": 4,
 "nbformat_minor": 4
}
