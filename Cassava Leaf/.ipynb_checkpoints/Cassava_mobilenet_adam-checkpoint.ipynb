{
 "cells": [
  {
   "cell_type": "markdown",
   "metadata": {},
   "source": [
    "# Cassava Leaf with mobilenet and RMSprop"
   ]
  },
  {
   "cell_type": "markdown",
   "metadata": {},
   "source": [
    "## 1) Importing the libraries"
   ]
  },
  {
   "cell_type": "code",
   "execution_count": 1,
   "metadata": {},
   "outputs": [],
   "source": [
    "import matplotlib.pyplot as plt\n",
    "import numpy as np\n",
    "import tensorflow as tf\n",
    "import json\n",
    "import tensorflow_hub as hub\n",
    "import tensorflow_datasets as tfds\n",
    "tfds.disable_progress_bar()"
   ]
  },
  {
   "cell_type": "markdown",
   "metadata": {},
   "source": [
    "## 2) Loading and summarizing data and creating data pipelines"
   ]
  },
  {
   "cell_type": "code",
   "execution_count": 2,
   "metadata": {},
   "outputs": [],
   "source": [
    "data, dataset_info = tfds.load('cassava', split='train+test+validation', as_supervised = True, with_info = True)\n",
    "datalen = [i for i,_ in enumerate(data)][-1] + 1\n",
    "datalen\n",
    "\n",
    "train_split = int(0.6*datalen)\n",
    "test_val_split = int(0.2*datalen)\n",
    "test_val_split = int(0.2*datalen)\n",
    "\n",
    "training_set = data.take(train_split)\n",
    "test_set = data.skip(train_split)\n",
    "validation_set = test_set.skip(test_val_split)\n",
    "test_set = test_set.take(test_val_split)\n",
    "\n",
    "dataset=training_set,validation_set,test_set"
   ]
  },
  {
   "cell_type": "code",
   "execution_count": 3,
   "metadata": {},
   "outputs": [
    {
     "data": {
      "text/plain": [
       "tfds.core.DatasetInfo(\n",
       "    name='cassava',\n",
       "    version=0.1.0,\n",
       "    description='Cassava consists of leaf images for the cassava plant depicting healthy and\n",
       "four (4) disease conditions; Cassava Mosaic Disease (CMD), Cassava Bacterial\n",
       "Blight (CBB), Cassava Greem Mite (CGM) and Cassava Brown Streak Disease (CBSD).\n",
       "Dataset consists of a total of 9430 labelled images.\n",
       "The 9430 labelled images are split into a training set (5656), a test set(1885)\n",
       "and a validation set (1889). The number of images per class are unbalanced with\n",
       "the two disease classes CMD and CBSD having 72% of the images.',\n",
       "    homepage='https://www.kaggle.com/c/cassava-disease/overview',\n",
       "    features=FeaturesDict({\n",
       "        'image': Image(shape=(None, None, 3), dtype=tf.uint8),\n",
       "        'image/filename': Text(shape=(), dtype=tf.string),\n",
       "        'label': ClassLabel(shape=(), dtype=tf.int64, num_classes=5),\n",
       "    }),\n",
       "    total_num_examples=9430,\n",
       "    splits={\n",
       "        'test': 1885,\n",
       "        'train': 5656,\n",
       "        'validation': 1889,\n",
       "    },\n",
       "    supervised_keys=('image', 'label'),\n",
       "    citation=\"\"\"@misc{mwebaze2019icassava,\n",
       "        title={iCassava 2019Fine-Grained Visual Categorization Challenge},\n",
       "        author={Ernest Mwebaze and Timnit Gebru and Andrea Frome and Solomon Nsumba and Jeremy Tusubira},\n",
       "        year={2019},\n",
       "        eprint={1908.02900},\n",
       "        archivePrefix={arXiv},\n",
       "        primaryClass={cs.CV}\n",
       "    }\"\"\",\n",
       "    redistribution_info=,\n",
       ")"
      ]
     },
     "execution_count": 3,
     "metadata": {},
     "output_type": "execute_result"
    }
   ],
   "source": [
    "dataset_info"
   ]
  },
  {
   "cell_type": "markdown",
   "metadata": {},
   "source": [
    "### From the above datset_info we can see that the data is split into train, test and validation batches and each image has features like filename, label and image itself(255 pixels) which can be harnessed whenever needed"
   ]
  },
  {
   "cell_type": "code",
   "execution_count": 4,
   "metadata": {},
   "outputs": [
    {
     "name": "stdout",
     "output_type": "stream",
     "text": [
      "There are 5,658 images in the training set\n",
      "There are 1,886 images in the validation set\n",
      "There are 1,886 images in the test set\n",
      "There are 5 classes in our dataset\n"
     ]
    }
   ],
   "source": [
    "total_examples = dataset_info.splits['train'].num_examples + dataset_info.splits['test'].num_examples + dataset_info.splits['validation'].num_examples\n",
    "\n",
    "num_training_examples = train_split\n",
    "num_validation_examples = test_val_split\n",
    "num_test_examples = num_validation_examples\n",
    "\n",
    "print('There are {:,} images in the training set'.format(num_training_examples))\n",
    "print('There are {:,} images in the validation set'.format(num_validation_examples))\n",
    "print('There are {:,} images in the test set'.format(num_test_examples))\n",
    "\n",
    "num_classes = dataset_info.features['label'].num_classes\n",
    "print('There are {:,} classes in our dataset'.format(num_classes))"
   ]
  },
  {
   "cell_type": "code",
   "execution_count": 5,
   "metadata": {},
   "outputs": [],
   "source": [
    "def resize(image, label):\n",
    "    image = tf.cast(image, tf.float32)\n",
    "    image = tf.image.resize(image, [224,224], preserve_aspect_ratio=False)\n",
    "    image /= 255\n",
    "    return image, label\n",
    "\n",
    "batch_size = 32\n",
    "image_size = 224\n",
    "\n",
    "training_batches = training_set.cache().shuffle(num_training_examples//4).map(resize).batch(batch_size).prefetch(1)\n",
    "validation_batches = validation_set.cache().map(resize).batch(batch_size).prefetch(1)\n",
    "testing_batches = test_set.cache().map(resize).batch(batch_size).prefetch(1)"
   ]
  },
  {
   "cell_type": "markdown",
   "metadata": {},
   "source": [
    "## 3) Creating models, plots and test data evaluation"
   ]
  },
  {
   "cell_type": "code",
   "execution_count": 6,
   "metadata": {},
   "outputs": [],
   "source": [
    "pretrained_model = \"https://tfhub.dev/google/tf2-preview/mobilenet_v2/feature_vector/4\""
   ]
  },
  {
   "cell_type": "code",
   "execution_count": 7,
   "metadata": {},
   "outputs": [],
   "source": [
    "lr = 0.001\n",
    "\n",
    "decay_steps = 100000\n",
    "decay_rate = 0.95\n",
    "\n",
    "exp_lr_scheduler = tf.keras.optimizers.schedules.ExponentialDecay(lr, decay_steps, decay_rate)"
   ]
  },
  {
   "cell_type": "code",
   "execution_count": 8,
   "metadata": {},
   "outputs": [],
   "source": [
    "def plotter(history):\n",
    "    training_accuracy = history.history['accuracy']\n",
    "    validation_accuracy = history.history['val_accuracy']\n",
    " \n",
    "    training_loss = history.history['loss']\n",
    "    validation_loss = history.history['val_loss']\n",
    "\n",
    "    epochs_range=range(EPOCHS)\n",
    "\n",
    "    plt.figure(figsize=(8, 8))\n",
    "    plt.subplot(1, 2, 1)\n",
    "    plt.plot(epochs_range, training_accuracy, label='Training Accuracy')\n",
    "    plt.plot(epochs_range, validation_accuracy, label='Validation Accuracy')\n",
    "    plt.legend(loc='lower right')\n",
    "    plt.title('Training and Validation Accuracy')\n",
    "\n",
    "    plt.subplot(1, 2, 2)\n",
    "    plt.plot(epochs_range, training_loss, label='Training Loss')\n",
    "    plt.plot(epochs_range, validation_loss, label='Validation Loss')\n",
    "    plt.legend(loc='upper right')\n",
    "    plt.title('Training and Validation Loss')\n",
    "    plt.show()"
   ]
  },
  {
   "cell_type": "code",
   "execution_count": 9,
   "metadata": {},
   "outputs": [],
   "source": [
    "def summary_plot(pretrained_model,losses,accuracies):\n",
    "    plt.figure(figsize=(8, 8))\n",
    "    \n",
    "    plt.subplot(1, 2, 1)\n",
    "    plt.plot(all_optimizers, losses)\n",
    "    plt.xlabel(\"Gradient Descent Variants\")\n",
    "    plt.ylabel(\"Loss Values\")\n",
    "    plt.title('Testing Loss Summary')\n",
    "\n",
    "    plt.subplot(1, 2, 2)\n",
    "    plt.bar(all_optimizers, accuracies)\n",
    "    plt.xlabel(\"Gradient Descent Variants\")\n",
    "    plt.ylabel(\"Accuracy Values\")\n",
    "    plt.title('Testing Accuracy Summary')\n",
    "    \n",
    "    plt.show()\n",
    "    "
   ]
  },
  {
   "cell_type": "code",
   "execution_count": 10,
   "metadata": {},
   "outputs": [
    {
     "name": "stdout",
     "output_type": "stream",
     "text": [
      "Epoch 1/25\n",
      "177/177 [==============================] - 114s 643ms/step - loss: 0.9363 - accuracy: 0.6568 - val_loss: 0.8037 - val_accuracy: 0.6962\n",
      "Epoch 2/25\n",
      "177/177 [==============================] - 108s 608ms/step - loss: 0.7251 - accuracy: 0.7359 - val_loss: 0.7174 - val_accuracy: 0.7344\n",
      "Epoch 3/25\n",
      "177/177 [==============================] - 107s 602ms/step - loss: 0.6647 - accuracy: 0.7603 - val_loss: 0.6711 - val_accuracy: 0.7545\n",
      "Epoch 4/25\n",
      "177/177 [==============================] - 108s 613ms/step - loss: 0.6252 - accuracy: 0.7771 - val_loss: 0.7151 - val_accuracy: 0.7238\n",
      "Epoch 5/25\n",
      "177/177 [==============================] - 108s 612ms/step - loss: 0.5957 - accuracy: 0.7849 - val_loss: 0.6591 - val_accuracy: 0.7561\n",
      "Epoch 6/25\n",
      "177/177 [==============================] - 107s 603ms/step - loss: 0.5697 - accuracy: 0.8043 - val_loss: 0.6878 - val_accuracy: 0.7471\n",
      "Epoch 7/25\n",
      "177/177 [==============================] - 107s 605ms/step - loss: 0.5497 - accuracy: 0.8054 - val_loss: 0.6476 - val_accuracy: 0.7609\n",
      "Epoch 8/25\n",
      "177/177 [==============================] - 107s 604ms/step - loss: 0.5348 - accuracy: 0.8153 - val_loss: 0.6443 - val_accuracy: 0.7630\n",
      "Epoch 9/25\n",
      "177/177 [==============================] - 106s 600ms/step - loss: 0.5159 - accuracy: 0.8185 - val_loss: 0.6887 - val_accuracy: 0.7407\n",
      "Epoch 10/25\n",
      "177/177 [==============================] - 107s 604ms/step - loss: 0.5010 - accuracy: 0.8245 - val_loss: 0.6674 - val_accuracy: 0.7540\n",
      "Epoch 11/25\n",
      "177/177 [==============================] - 107s 603ms/step - loss: 0.4861 - accuracy: 0.8314 - val_loss: 0.6699 - val_accuracy: 0.7550\n",
      "Epoch 12/25\n",
      "177/177 [==============================] - 107s 603ms/step - loss: 0.4776 - accuracy: 0.8330 - val_loss: 0.6579 - val_accuracy: 0.7577\n",
      "Epoch 13/25\n",
      "177/177 [==============================] - 111s 628ms/step - loss: 0.4648 - accuracy: 0.8409 - val_loss: 0.7095 - val_accuracy: 0.7450\n",
      "Epoch 14/25\n",
      "177/177 [==============================] - 107s 607ms/step - loss: 0.4558 - accuracy: 0.8436 - val_loss: 0.6886 - val_accuracy: 0.7556\n",
      "Epoch 15/25\n",
      "177/177 [==============================] - 109s 617ms/step - loss: 0.4463 - accuracy: 0.8423 - val_loss: 0.6922 - val_accuracy: 0.7545\n",
      "Epoch 16/25\n",
      "177/177 [==============================] - 107s 603ms/step - loss: 0.4377 - accuracy: 0.8468 - val_loss: 0.6751 - val_accuracy: 0.7625\n",
      "Epoch 17/25\n",
      "177/177 [==============================] - 107s 603ms/step - loss: 0.4275 - accuracy: 0.8568 - val_loss: 0.6827 - val_accuracy: 0.7550\n",
      "Epoch 18/25\n",
      "177/177 [==============================] - 107s 605ms/step - loss: 0.4202 - accuracy: 0.8597 - val_loss: 0.6786 - val_accuracy: 0.7625\n",
      "Epoch 19/25\n",
      "177/177 [==============================] - 107s 607ms/step - loss: 0.4103 - accuracy: 0.8551 - val_loss: 0.7377 - val_accuracy: 0.7344\n",
      "Epoch 20/25\n",
      "177/177 [==============================] - 107s 603ms/step - loss: 0.4090 - accuracy: 0.8609 - val_loss: 0.6881 - val_accuracy: 0.7630\n",
      "Epoch 21/25\n",
      "177/177 [==============================] - 107s 604ms/step - loss: 0.3985 - accuracy: 0.8639 - val_loss: 0.6851 - val_accuracy: 0.7561\n",
      "Epoch 22/25\n",
      "177/177 [==============================] - 107s 604ms/step - loss: 0.3919 - accuracy: 0.8636 - val_loss: 0.7064 - val_accuracy: 0.7593\n",
      "Epoch 23/25\n",
      "177/177 [==============================] - 107s 607ms/step - loss: 0.3866 - accuracy: 0.8671 - val_loss: 0.6954 - val_accuracy: 0.7619\n",
      "Epoch 24/25\n",
      "177/177 [==============================] - 107s 604ms/step - loss: 0.3837 - accuracy: 0.8697 - val_loss: 0.7275 - val_accuracy: 0.7402\n",
      "Epoch 25/25\n",
      "177/177 [==============================] - 108s 609ms/step - loss: 0.3779 - accuracy: 0.8712 - val_loss: 0.7036 - val_accuracy: 0.7529\n"
     ]
    },
    {
     "data": {
      "image/png": "[encoded data removed]",
      "text/plain": [
       "<Figure size 576x576 with 2 Axes>"
      ]
     },
     "metadata": {
      "needs_background": "light"
     },
     "output_type": "display_data"
    },
    {
     "name": "stdout",
     "output_type": "stream",
     "text": [
      "59/59 [==============================] - 27s 460ms/step - loss: 0.6888 - accuracy: 0.7434\n",
      "\n",
      "Loss on the TEST Set: 0.689\n",
      "\n",
      "Accuracy on the TEST Set: 74.337%\n"
     ]
    }
   ],
   "source": [
    "EPOCHS = 25\n",
    "\n",
    "feature_extractor = hub.KerasLayer(pretrained_model, input_shape=(image_size, image_size,3))\n",
    "feature_extractor.trainable = False\n",
    "model = tf.keras.Sequential([\n",
    "        feature_extractor,\n",
    "        tf.keras.layers.Dense(num_classes, activation ='softmax')])\n",
    "    \n",
    "           \n",
    "model.compile(optimizer=tf.keras.optimizers.RMSprop(learning_rate=exp_lr_scheduler),\n",
    "              loss='sparse_categorical_crossentropy',\n",
    "              metrics=['accuracy'])\n",
    "        \n",
    "\n",
    "history = model.fit(training_batches,\n",
    "                    epochs = EPOCHS,\n",
    "                    validation_data=validation_batches) \n",
    "        \n",
    "\n",
    "        \n",
    "plotter(history)\n",
    "        \n",
    "loss, accuracy = model.evaluate(testing_batches)\n",
    "        \n",
    "       \n",
    "print('\\nLoss on the TEST Set: {:,.3f}'.format(loss))\n",
    "print('\\nAccuracy on the TEST Set: {:.3%}'.format(accuracy))\n",
    "        \n",
    "    "
   ]
  }
 ],
 "metadata": {
  "kernelspec": {
   "display_name": "Python 3",
   "language": "python",
   "name": "python3"
  },
  "language_info": {
   "codemirror_mode": {
    "name": "ipython",
    "version": 3
   },
   "file_extension": ".py",
   "mimetype": "text/x-python",
   "name": "python",
   "nbconvert_exporter": "python",
   "pygments_lexer": "ipython3",
   "version": "3.7.9"
  }
 },
 "nbformat": 4,
 "nbformat_minor": 4
}
