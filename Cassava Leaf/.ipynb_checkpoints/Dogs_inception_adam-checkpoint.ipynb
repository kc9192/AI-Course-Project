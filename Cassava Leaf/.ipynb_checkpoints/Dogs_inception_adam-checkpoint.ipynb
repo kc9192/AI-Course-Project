{
 "cells": [
  {
   "cell_type": "markdown",
   "metadata": {},
   "source": [
    "# stanford_dogs with inception and RMSprop"
   ]
  },
  {
   "cell_type": "markdown",
   "metadata": {},
   "source": [
    "## 1) Importing the libraries"
   ]
  },
  {
   "cell_type": "code",
   "execution_count": 1,
   "metadata": {},
   "outputs": [],
   "source": [
    "import matplotlib.pyplot as plt\n",
    "import numpy as np\n",
    "import tensorflow as tf\n",
    "import json\n",
    "import tensorflow_hub as hub\n",
    "import tensorflow_datasets as tfds\n",
    "tfds.disable_progress_bar()"
   ]
  },
  {
   "cell_type": "markdown",
   "metadata": {},
   "source": [
    "## 2) Loading and summarizing data and creating data pipelines"
   ]
  },
  {
   "cell_type": "code",
   "execution_count": 2,
   "metadata": {},
   "outputs": [],
   "source": [
    "data, dataset_info = tfds.load('cassava', split='train+test+validation', as_supervised = True, with_info = True)\n",
    "datalen = [i for i,_ in enumerate(data)][-1] + 1\n",
    "datalen\n",
    "\n",
    "train_split = int(0.6*datalen)\n",
    "test_val_split = int(0.2*datalen)\n",
    "test_val_split = int(0.2*datalen)\n",
    "\n",
    "training_set = data.take(train_split)\n",
    "test_set = data.skip(train_split)\n",
    "validation_set = test_set.skip(test_val_split)\n",
    "test_set = test_set.take(test_val_split)\n",
    "\n",
    "dataset=training_set,validation_set,test_set"
   ]
  },
  {
   "cell_type": "code",
   "execution_count": 3,
   "metadata": {},
   "outputs": [
    {
     "data": {
      "text/plain": [
       "tfds.core.DatasetInfo(\n",
       "    name='cassava',\n",
       "    version=0.1.0,\n",
       "    description='Cassava consists of leaf images for the cassava plant depicting healthy and\n",
       "four (4) disease conditions; Cassava Mosaic Disease (CMD), Cassava Bacterial\n",
       "Blight (CBB), Cassava Greem Mite (CGM) and Cassava Brown Streak Disease (CBSD).\n",
       "Dataset consists of a total of 9430 labelled images.\n",
       "The 9430 labelled images are split into a training set (5656), a test set(1885)\n",
       "and a validation set (1889). The number of images per class are unbalanced with\n",
       "the two disease classes CMD and CBSD having 72% of the images.',\n",
       "    homepage='https://www.kaggle.com/c/cassava-disease/overview',\n",
       "    features=FeaturesDict({\n",
       "        'image': Image(shape=(None, None, 3), dtype=tf.uint8),\n",
       "        'image/filename': Text(shape=(), dtype=tf.string),\n",
       "        'label': ClassLabel(shape=(), dtype=tf.int64, num_classes=5),\n",
       "    }),\n",
       "    total_num_examples=9430,\n",
       "    splits={\n",
       "        'test': 1885,\n",
       "        'train': 5656,\n",
       "        'validation': 1889,\n",
       "    },\n",
       "    supervised_keys=('image', 'label'),\n",
       "    citation=\"\"\"@misc{mwebaze2019icassava,\n",
       "        title={iCassava 2019Fine-Grained Visual Categorization Challenge},\n",
       "        author={Ernest Mwebaze and Timnit Gebru and Andrea Frome and Solomon Nsumba and Jeremy Tusubira},\n",
       "        year={2019},\n",
       "        eprint={1908.02900},\n",
       "        archivePrefix={arXiv},\n",
       "        primaryClass={cs.CV}\n",
       "    }\"\"\",\n",
       "    redistribution_info=,\n",
       ")"
      ]
     },
     "execution_count": 3,
     "metadata": {},
     "output_type": "execute_result"
    }
   ],
   "source": [
    "dataset_info"
   ]
  },
  {
   "cell_type": "markdown",
   "metadata": {},
   "source": [
    "### From the above datset_info we can see that the data is split into train, test and validation batches and each image has features like filename, label and image itself(255 pixels) which can be harnessed whenever needed"
   ]
  },
  {
   "cell_type": "code",
   "execution_count": 4,
   "metadata": {},
   "outputs": [
    {
     "name": "stdout",
     "output_type": "stream",
     "text": [
      "There are 5,658 images in the training set\n",
      "There are 1,886 images in the validation set\n",
      "There are 1,886 images in the test set\n",
      "There are 5 classes in our dataset\n"
     ]
    }
   ],
   "source": [
    "total_examples = dataset_info.splits['train'].num_examples + dataset_info.splits['test'].num_examples + dataset_info.splits['validation'].num_examples\n",
    "\n",
    "num_training_examples = train_split\n",
    "num_validation_examples = test_val_split\n",
    "num_test_examples = num_validation_examples\n",
    "\n",
    "print('There are {:,} images in the training set'.format(num_training_examples))\n",
    "print('There are {:,} images in the validation set'.format(num_validation_examples))\n",
    "print('There are {:,} images in the test set'.format(num_test_examples))\n",
    "\n",
    "num_classes = dataset_info.features['label'].num_classes\n",
    "print('There are {:,} classes in our dataset'.format(num_classes))"
   ]
  },
  {
   "cell_type": "code",
   "execution_count": 5,
   "metadata": {},
   "outputs": [],
   "source": [
    "def resize(image, label):\n",
    "    image = tf.cast(image, tf.float32)\n",
    "    image = tf.image.resize(image, [224,224], preserve_aspect_ratio=False)\n",
    "    image /= 255\n",
    "    return image, label\n",
    "\n",
    "batch_size = 32\n",
    "image_size = 224\n",
    "\n",
    "training_batches = training_set.cache().shuffle(num_training_examples//4).map(resize).batch(batch_size).prefetch(1)\n",
    "validation_batches = validation_set.cache().map(resize).batch(batch_size).prefetch(1)\n",
    "testing_batches = test_set.cache().map(resize).batch(batch_size).prefetch(1)"
   ]
  },
  {
   "cell_type": "markdown",
   "metadata": {},
   "source": [
    "## 3) Creating models, plots and test data evaluation"
   ]
  },
  {
   "cell_type": "code",
   "execution_count": 6,
   "metadata": {},
   "outputs": [],
   "source": [
    "pretrained_model = \"https://tfhub.dev/google/imagenet/inception_v3/feature_vector/4\""
   ]
  },
  {
   "cell_type": "code",
   "execution_count": 7,
   "metadata": {},
   "outputs": [],
   "source": [
    "lr = 0.001\n",
    "\n",
    "decay_steps = 100000\n",
    "decay_rate = 0.95\n",
    "\n",
    "exp_lr_scheduler = tf.keras.optimizers.schedules.ExponentialDecay(lr, decay_steps, decay_rate)"
   ]
  },
  {
   "cell_type": "code",
   "execution_count": 8,
   "metadata": {},
   "outputs": [],
   "source": [
    "def plotter(history):\n",
    "    training_accuracy = history.history['accuracy']\n",
    "    validation_accuracy = history.history['val_accuracy']\n",
    " \n",
    "    training_loss = history.history['loss']\n",
    "    validation_loss = history.history['val_loss']\n",
    "\n",
    "    epochs_range=range(EPOCHS)\n",
    "\n",
    "    plt.figure(figsize=(8, 8))\n",
    "    plt.subplot(1, 2, 1)\n",
    "    plt.plot(epochs_range, training_accuracy, label='Training Accuracy')\n",
    "    plt.plot(epochs_range, validation_accuracy, label='Validation Accuracy')\n",
    "    plt.legend(loc='lower right')\n",
    "    plt.title('Training and Validation Accuracy')\n",
    "\n",
    "    plt.subplot(1, 2, 2)\n",
    "    plt.plot(epochs_range, training_loss, label='Training Loss')\n",
    "    plt.plot(epochs_range, validation_loss, label='Validation Loss')\n",
    "    plt.legend(loc='upper right')\n",
    "    plt.title('Training and Validation Loss')\n",
    "    plt.show()"
   ]
  },
  {
   "cell_type": "code",
   "execution_count": 9,
   "metadata": {},
   "outputs": [],
   "source": [
    "def summary_plot(pretrained_model,losses,accuracies):\n",
    "    plt.figure(figsize=(8, 8))\n",
    "    \n",
    "    plt.subplot(1, 2, 1)\n",
    "    plt.plot(all_optimizers, losses)\n",
    "    plt.xlabel(\"Gradient Descent Variants\")\n",
    "    plt.ylabel(\"Loss Values\")\n",
    "    plt.title('Testing Loss Summary')\n",
    "\n",
    "    plt.subplot(1, 2, 2)\n",
    "    plt.bar(all_optimizers, accuracies)\n",
    "    plt.xlabel(\"Gradient Descent Variants\")\n",
    "    plt.ylabel(\"Accuracy Values\")\n",
    "    plt.title('Testing Accuracy Summary')\n",
    "    \n",
    "    plt.show()\n",
    "    "
   ]
  },
  {
   "cell_type": "code",
   "execution_count": 10,
   "metadata": {},
   "outputs": [
    {
     "name": "stdout",
     "output_type": "stream",
     "text": [
      "Epoch 1/25\n",
      "177/177 [==============================] - 275s 2s/step - loss: 1.0219 - accuracy: 0.6198 - val_loss: 0.8417 - val_accuracy: 0.6776\n",
      "Epoch 2/25\n",
      "177/177 [==============================] - 283s 2s/step - loss: 0.8371 - accuracy: 0.6909 - val_loss: 0.8094 - val_accuracy: 0.6872\n",
      "Epoch 3/25\n",
      "177/177 [==============================] - 278s 2s/step - loss: 0.7751 - accuracy: 0.7172 - val_loss: 0.8255 - val_accuracy: 0.6856\n",
      "Epoch 4/25\n",
      "177/177 [==============================] - 273s 2s/step - loss: 0.7320 - accuracy: 0.7276 - val_loss: 0.8130 - val_accuracy: 0.7031\n",
      "Epoch 5/25\n",
      "177/177 [==============================] - 282s 2s/step - loss: 0.7048 - accuracy: 0.7395 - val_loss: 0.7461 - val_accuracy: 0.7222\n",
      "Epoch 6/25\n",
      "177/177 [==============================] - 273s 2s/step - loss: 0.6751 - accuracy: 0.7573 - val_loss: 0.7848 - val_accuracy: 0.7010\n",
      "Epoch 7/25\n",
      "177/177 [==============================] - 273s 2s/step - loss: 0.6612 - accuracy: 0.7589 - val_loss: 0.7521 - val_accuracy: 0.7317\n",
      "Epoch 8/25\n",
      "177/177 [==============================] - 275s 2s/step - loss: 0.6410 - accuracy: 0.7672 - val_loss: 0.7456 - val_accuracy: 0.7253\n",
      "Epoch 9/25\n",
      "177/177 [==============================] - 275s 2s/step - loss: 0.6212 - accuracy: 0.7708 - val_loss: 0.9507 - val_accuracy: 0.6426\n",
      "Epoch 10/25\n",
      "177/177 [==============================] - 274s 2s/step - loss: 0.6073 - accuracy: 0.7807 - val_loss: 0.8042 - val_accuracy: 0.6909\n",
      "Epoch 11/25\n",
      "177/177 [==============================] - 278s 2s/step - loss: 0.5933 - accuracy: 0.7837 - val_loss: 0.9323 - val_accuracy: 0.6511\n",
      "Epoch 12/25\n",
      "177/177 [==============================] - 279s 2s/step - loss: 0.5811 - accuracy: 0.7874 - val_loss: 0.8753 - val_accuracy: 0.6856\n",
      "Epoch 13/25\n",
      "177/177 [==============================] - 264s 1s/step - loss: 0.5647 - accuracy: 0.7971 - val_loss: 0.7343 - val_accuracy: 0.7375\n",
      "Epoch 14/25\n",
      "177/177 [==============================] - 263s 1s/step - loss: 0.5540 - accuracy: 0.8001 - val_loss: 0.7405 - val_accuracy: 0.7306\n",
      "Epoch 15/25\n",
      "177/177 [==============================] - 262s 1s/step - loss: 0.5429 - accuracy: 0.8022 - val_loss: 0.8705 - val_accuracy: 0.6962\n",
      "Epoch 16/25\n",
      "177/177 [==============================] - 261s 1s/step - loss: 0.5362 - accuracy: 0.8021 - val_loss: 0.8154 - val_accuracy: 0.7211\n",
      "Epoch 17/25\n",
      "177/177 [==============================] - 264s 1s/step - loss: 0.5311 - accuracy: 0.8028 - val_loss: 0.7224 - val_accuracy: 0.7439\n",
      "Epoch 18/25\n",
      "177/177 [==============================] - 261s 1s/step - loss: 0.5134 - accuracy: 0.8141 - val_loss: 0.8475 - val_accuracy: 0.6914\n",
      "Epoch 19/25\n",
      "177/177 [==============================] - 262s 1s/step - loss: 0.5111 - accuracy: 0.8121 - val_loss: 0.7486 - val_accuracy: 0.7381\n",
      "Epoch 20/25\n",
      "177/177 [==============================] - 261s 1s/step - loss: 0.5028 - accuracy: 0.8185 - val_loss: 0.7598 - val_accuracy: 0.7291\n",
      "Epoch 21/25\n",
      "177/177 [==============================] - 260s 1s/step - loss: 0.4911 - accuracy: 0.8195 - val_loss: 0.8467 - val_accuracy: 0.6893\n",
      "Epoch 22/25\n",
      "177/177 [==============================] - 261s 1s/step - loss: 0.4835 - accuracy: 0.8215 - val_loss: 0.8876 - val_accuracy: 0.6919\n",
      "Epoch 23/25\n",
      "177/177 [==============================] - 260s 1s/step - loss: 0.4774 - accuracy: 0.8266 - val_loss: 0.7944 - val_accuracy: 0.7073\n",
      "Epoch 24/25\n",
      "177/177 [==============================] - 262s 1s/step - loss: 0.4691 - accuracy: 0.8284 - val_loss: 0.8616 - val_accuracy: 0.6946\n",
      "Epoch 25/25\n",
      "177/177 [==============================] - 261s 1s/step - loss: 0.4633 - accuracy: 0.8252 - val_loss: 0.7540 - val_accuracy: 0.7428\n"
     ]
    },
    {
     "data": {
      "image/png": "[encoded data removed]",
      "text/plain": [
       "<Figure size 576x576 with 2 Axes>"
      ]
     },
     "metadata": {
      "needs_background": "light"
     },
     "output_type": "display_data"
    },
    {
     "name": "stdout",
     "output_type": "stream",
     "text": [
      "59/59 [==============================] - 66s 1s/step - loss: 0.7778 - accuracy: 0.7264\n",
      "\n",
      "Loss on the TEST Set: 0.778\n",
      "\n",
      "Accuracy on the TEST Set: 72.641%\n"
     ]
    }
   ],
   "source": [
    "EPOCHS = 25\n",
    "\n",
    "feature_extractor = hub.KerasLayer(pretrained_model, input_shape=(image_size, image_size,3))\n",
    "feature_extractor.trainable = False\n",
    "model = tf.keras.Sequential([\n",
    "        feature_extractor,\n",
    "        tf.keras.layers.Dense(num_classes, activation ='softmax')])\n",
    "    \n",
    "           \n",
    "model.compile(optimizer=tf.keras.optimizers.RMSprop(learning_rate=exp_lr_scheduler),\n",
    "              loss='sparse_categorical_crossentropy',\n",
    "              metrics=['accuracy'])\n",
    "        \n",
    "\n",
    "history = model.fit(training_batches,\n",
    "                    epochs = EPOCHS,\n",
    "                    validation_data=validation_batches) \n",
    "        \n",
    "\n",
    "        \n",
    "plotter(history)\n",
    "        \n",
    "loss, accuracy = model.evaluate(testing_batches)\n",
    "        \n",
    "       \n",
    "print('\\nLoss on the TEST Set: {:,.3f}'.format(loss))\n",
    "print('\\nAccuracy on the TEST Set: {:.3%}'.format(accuracy))\n",
    "        \n",
    "    "
   ]
  }
 ],
 "metadata": {
  "kernelspec": {
   "display_name": "Python 3",
   "language": "python",
   "name": "python3"
  },
  "language_info": {
   "codemirror_mode": {
    "name": "ipython",
    "version": 3
   },
   "file_extension": ".py",
   "mimetype": "text/x-python",
   "name": "python",
   "nbconvert_exporter": "python",
   "pygments_lexer": "ipython3",
   "version": "3.7.9"
  }
 },
 "nbformat": 4,
 "nbformat_minor": 4
}
