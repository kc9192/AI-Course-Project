{
 "cells": [
  {
   "cell_type": "markdown",
   "metadata": {},
   "source": [
    "# Cassava leaf with resnet and adam"
   ]
  },
  {
   "cell_type": "markdown",
   "metadata": {},
   "source": [
    "## 1) Importing the libraries"
   ]
  },
  {
   "cell_type": "code",
   "execution_count": 1,
   "metadata": {},
   "outputs": [],
   "source": [
    "import matplotlib.pyplot as plt\n",
    "import numpy as np\n",
    "import tensorflow as tf\n",
    "import json\n",
    "import tensorflow_hub as hub\n",
    "import tensorflow_datasets as tfds\n",
    "tfds.disable_progress_bar()"
   ]
  },
  {
   "cell_type": "markdown",
   "metadata": {},
   "source": [
    "## 2) Loading and summarizing data and creating data pipelines"
   ]
  },
  {
   "cell_type": "code",
   "execution_count": 2,
   "metadata": {},
   "outputs": [],
   "source": [
    "data, dataset_info = tfds.load('cassava', split='train+test+validation', as_supervised = True, with_info = True)\n",
    "datalen = [i for i,_ in enumerate(data)][-1] + 1\n",
    "datalen\n",
    "\n",
    "train_split = int(0.6*datalen)\n",
    "test_val_split = int(0.2*datalen)\n",
    "test_val_split = int(0.2*datalen)\n",
    "\n",
    "training_set = data.take(train_split)\n",
    "test_set = data.skip(train_split)\n",
    "validation_set = test_set.skip(test_val_split)\n",
    "test_set = test_set.take(test_val_split)\n",
    "\n",
    "dataset=training_set,validation_set,test_set"
   ]
  },
  {
   "cell_type": "code",
   "execution_count": 3,
   "metadata": {},
   "outputs": [
    {
     "data": {
      "text/plain": [
       "tfds.core.DatasetInfo(\n",
       "    name='cassava',\n",
       "    version=0.1.0,\n",
       "    description='Cassava consists of leaf images for the cassava plant depicting healthy and\n",
       "four (4) disease conditions; Cassava Mosaic Disease (CMD), Cassava Bacterial\n",
       "Blight (CBB), Cassava Greem Mite (CGM) and Cassava Brown Streak Disease (CBSD).\n",
       "Dataset consists of a total of 9430 labelled images.\n",
       "The 9430 labelled images are split into a training set (5656), a test set(1885)\n",
       "and a validation set (1889). The number of images per class are unbalanced with\n",
       "the two disease classes CMD and CBSD having 72% of the images.',\n",
       "    homepage='https://www.kaggle.com/c/cassava-disease/overview',\n",
       "    features=FeaturesDict({\n",
       "        'image': Image(shape=(None, None, 3), dtype=tf.uint8),\n",
       "        'image/filename': Text(shape=(), dtype=tf.string),\n",
       "        'label': ClassLabel(shape=(), dtype=tf.int64, num_classes=5),\n",
       "    }),\n",
       "    total_num_examples=9430,\n",
       "    splits={\n",
       "        'test': 1885,\n",
       "        'train': 5656,\n",
       "        'validation': 1889,\n",
       "    },\n",
       "    supervised_keys=('image', 'label'),\n",
       "    citation=\"\"\"@misc{mwebaze2019icassava,\n",
       "        title={iCassava 2019Fine-Grained Visual Categorization Challenge},\n",
       "        author={Ernest Mwebaze and Timnit Gebru and Andrea Frome and Solomon Nsumba and Jeremy Tusubira},\n",
       "        year={2019},\n",
       "        eprint={1908.02900},\n",
       "        archivePrefix={arXiv},\n",
       "        primaryClass={cs.CV}\n",
       "    }\"\"\",\n",
       "    redistribution_info=,\n",
       ")"
      ]
     },
     "execution_count": 3,
     "metadata": {},
     "output_type": "execute_result"
    }
   ],
   "source": [
    "dataset_info"
   ]
  },
  {
   "cell_type": "markdown",
   "metadata": {},
   "source": [
    "### From the above datset_info we can see that the data is split into train, test and validation batches and each image has features like filename, label and image itself(255 pixels) which can be harnessed whenever needed"
   ]
  },
  {
   "cell_type": "code",
   "execution_count": 4,
   "metadata": {},
   "outputs": [
    {
     "name": "stdout",
     "output_type": "stream",
     "text": [
      "There are 5,658 images in the training set\n",
      "There are 1,886 images in the validation set\n",
      "There are 1,886 images in the test set\n",
      "There are 5 classes in our dataset\n"
     ]
    }
   ],
   "source": [
    "total_examples = dataset_info.splits['train'].num_examples + dataset_info.splits['test'].num_examples + dataset_info.splits['validation'].num_examples\n",
    "\n",
    "num_training_examples = train_split\n",
    "num_validation_examples = test_val_split\n",
    "num_test_examples = num_validation_examples\n",
    "\n",
    "print('There are {:,} images in the training set'.format(num_training_examples))\n",
    "print('There are {:,} images in the validation set'.format(num_validation_examples))\n",
    "print('There are {:,} images in the test set'.format(num_test_examples))\n",
    "\n",
    "num_classes = dataset_info.features['label'].num_classes\n",
    "print('There are {:,} classes in our dataset'.format(num_classes))"
   ]
  },
  {
   "cell_type": "code",
   "execution_count": 5,
   "metadata": {},
   "outputs": [],
   "source": [
    "def resize(image, label):\n",
    "    image = tf.cast(image, tf.float32)\n",
    "    image = tf.image.resize(image, [224,224], preserve_aspect_ratio=False)\n",
    "    image /= 255\n",
    "    return image, label\n",
    "\n",
    "batch_size = 32\n",
    "image_size = 224\n",
    "\n",
    "training_batches = training_set.cache().shuffle(num_training_examples//4).map(resize).batch(batch_size).prefetch(1)\n",
    "validation_batches = validation_set.cache().map(resize).batch(batch_size).prefetch(1)\n",
    "testing_batches = test_set.cache().map(resize).batch(batch_size).prefetch(1)"
   ]
  },
  {
   "cell_type": "markdown",
   "metadata": {},
   "source": [
    "## 3) Creating models, plots and test data evaluation"
   ]
  },
  {
   "cell_type": "code",
   "execution_count": 6,
   "metadata": {},
   "outputs": [],
   "source": [
    "pretrained_model = \"https://tfhub.dev/tensorflow/resnet_50/feature_vector/1\""
   ]
  },
  {
   "cell_type": "code",
   "execution_count": 7,
   "metadata": {},
   "outputs": [],
   "source": [
    "lr = 0.001\n",
    "\n",
    "decay_steps = 100000\n",
    "decay_rate = 0.95\n",
    "\n",
    "exp_lr_scheduler = tf.keras.optimizers.schedules.ExponentialDecay(lr, decay_steps, decay_rate)"
   ]
  },
  {
   "cell_type": "code",
   "execution_count": 8,
   "metadata": {},
   "outputs": [],
   "source": [
    "def plotter(history):\n",
    "    training_accuracy = history.history['accuracy']\n",
    "    validation_accuracy = history.history['val_accuracy']\n",
    " \n",
    "    training_loss = history.history['loss']\n",
    "    validation_loss = history.history['val_loss']\n",
    "\n",
    "    epochs_range=range(EPOCHS)\n",
    "\n",
    "    plt.figure(figsize=(8, 8))\n",
    "    plt.subplot(1, 2, 1)\n",
    "    plt.plot(epochs_range, training_accuracy, label='Training Accuracy')\n",
    "    plt.plot(epochs_range, validation_accuracy, label='Validation Accuracy')\n",
    "    plt.legend(loc='lower right')\n",
    "    plt.title('Training and Validation Accuracy')\n",
    "\n",
    "    plt.subplot(1, 2, 2)\n",
    "    plt.plot(epochs_range, training_loss, label='Training Loss')\n",
    "    plt.plot(epochs_range, validation_loss, label='Validation Loss')\n",
    "    plt.legend(loc='upper right')\n",
    "    plt.title('Training and Validation Loss')\n",
    "    plt.show()"
   ]
  },
  {
   "cell_type": "code",
   "execution_count": 9,
   "metadata": {},
   "outputs": [],
   "source": [
    "def summary_plot(pretrained_model,losses,accuracies):\n",
    "    plt.figure(figsize=(8, 8))\n",
    "    \n",
    "    plt.subplot(1, 2, 1)\n",
    "    plt.plot(all_optimizers, losses)\n",
    "    plt.xlabel(\"Gradient Descent Variants\")\n",
    "    plt.ylabel(\"Loss Values\")\n",
    "    plt.title('Testing Loss Summary')\n",
    "\n",
    "    plt.subplot(1, 2, 2)\n",
    "    plt.bar(all_optimizers, accuracies)\n",
    "    plt.xlabel(\"Gradient Descent Variants\")\n",
    "    plt.ylabel(\"Accuracy Values\")\n",
    "    plt.title('Testing Accuracy Summary')\n",
    "    \n",
    "    plt.show()\n",
    "    "
   ]
  },
  {
   "cell_type": "code",
   "execution_count": 10,
   "metadata": {},
   "outputs": [
    {
     "name": "stdout",
     "output_type": "stream",
     "text": [
      "Epoch 1/25\n",
      "177/177 [==============================] - 362s 2s/step - loss: 0.8897 - accuracy: 0.6796 - val_loss: 0.7334 - val_accuracy: 0.7402\n",
      "Epoch 2/25\n",
      "177/177 [==============================] - 366s 2s/step - loss: 0.6583 - accuracy: 0.7690 - val_loss: 0.6655 - val_accuracy: 0.7614\n",
      "Epoch 3/25\n",
      "177/177 [==============================] - 350s 2s/step - loss: 0.5879 - accuracy: 0.7989 - val_loss: 0.6472 - val_accuracy: 0.7704\n",
      "Epoch 4/25\n",
      "177/177 [==============================] - 358s 2s/step - loss: 0.5464 - accuracy: 0.8052 - val_loss: 0.6205 - val_accuracy: 0.7810\n",
      "Epoch 5/25\n",
      "177/177 [==============================] - 357s 2s/step - loss: 0.5040 - accuracy: 0.8257 - val_loss: 0.6503 - val_accuracy: 0.7704\n",
      "Epoch 6/25\n",
      "177/177 [==============================] - 354s 2s/step - loss: 0.4849 - accuracy: 0.8372 - val_loss: 0.6180 - val_accuracy: 0.7773\n",
      "Epoch 7/25\n",
      "177/177 [==============================] - 356s 2s/step - loss: 0.4563 - accuracy: 0.8475 - val_loss: 0.6131 - val_accuracy: 0.7789\n",
      "Epoch 8/25\n",
      "177/177 [==============================] - 354s 2s/step - loss: 0.4391 - accuracy: 0.8535 - val_loss: 0.6087 - val_accuracy: 0.7826\n",
      "Epoch 9/25\n",
      "177/177 [==============================] - 359s 2s/step - loss: 0.4270 - accuracy: 0.8533 - val_loss: 0.6056 - val_accuracy: 0.7884\n",
      "Epoch 10/25\n",
      "177/177 [==============================] - 359s 2s/step - loss: 0.4059 - accuracy: 0.8625 - val_loss: 0.5992 - val_accuracy: 0.7937\n",
      "Epoch 11/25\n",
      "177/177 [==============================] - 359s 2s/step - loss: 0.3915 - accuracy: 0.8697 - val_loss: 0.6318 - val_accuracy: 0.7731\n",
      "Epoch 12/25\n",
      "177/177 [==============================] - 357s 2s/step - loss: 0.3743 - accuracy: 0.8747 - val_loss: 0.6064 - val_accuracy: 0.7911\n",
      "Epoch 13/25\n",
      "177/177 [==============================] - 356s 2s/step - loss: 0.3713 - accuracy: 0.8759 - val_loss: 0.6030 - val_accuracy: 0.7863\n",
      "Epoch 14/25\n",
      "177/177 [==============================] - 354s 2s/step - loss: 0.3565 - accuracy: 0.8795 - val_loss: 0.6503 - val_accuracy: 0.7794\n",
      "Epoch 15/25\n",
      "177/177 [==============================] - 352s 2s/step - loss: 0.3391 - accuracy: 0.8925 - val_loss: 0.6112 - val_accuracy: 0.7810\n",
      "Epoch 16/25\n",
      "177/177 [==============================] - 353s 2s/step - loss: 0.3299 - accuracy: 0.8924 - val_loss: 0.6325 - val_accuracy: 0.7879\n",
      "Epoch 17/25\n",
      "177/177 [==============================] - 354s 2s/step - loss: 0.3253 - accuracy: 0.8945 - val_loss: 0.6201 - val_accuracy: 0.7890\n",
      "Epoch 18/25\n",
      "177/177 [==============================] - 353s 2s/step - loss: 0.3146 - accuracy: 0.9023 - val_loss: 0.6286 - val_accuracy: 0.7911\n",
      "Epoch 19/25\n",
      "177/177 [==============================] - 355s 2s/step - loss: 0.3100 - accuracy: 0.9008 - val_loss: 0.6174 - val_accuracy: 0.7842\n",
      "Epoch 20/25\n",
      "177/177 [==============================] - 370s 2s/step - loss: 0.3055 - accuracy: 0.9035 - val_loss: 0.6208 - val_accuracy: 0.7842\n",
      "Epoch 21/25\n",
      "177/177 [==============================] - 356s 2s/step - loss: 0.2911 - accuracy: 0.9111 - val_loss: 0.6512 - val_accuracy: 0.7720\n",
      "Epoch 22/25\n",
      "177/177 [==============================] - 359s 2s/step - loss: 0.2826 - accuracy: 0.9143 - val_loss: 0.6261 - val_accuracy: 0.7874\n",
      "Epoch 23/25\n",
      "177/177 [==============================] - 360s 2s/step - loss: 0.2775 - accuracy: 0.9134 - val_loss: 0.6373 - val_accuracy: 0.7821\n",
      "Epoch 24/25\n",
      "177/177 [==============================] - 360s 2s/step - loss: 0.2715 - accuracy: 0.9201 - val_loss: 0.6328 - val_accuracy: 0.7916\n",
      "Epoch 25/25\n",
      "177/177 [==============================] - 359s 2s/step - loss: 0.2719 - accuracy: 0.9148 - val_loss: 0.6372 - val_accuracy: 0.7874\n"
     ]
    },
    {
     "data": {
      "image/png": "[encoded data removed]",
      "text/plain": [
       "<Figure size 576x576 with 2 Axes>"
      ]
     },
     "metadata": {
      "needs_background": "light"
     },
     "output_type": "display_data"
    },
    {
     "name": "stdout",
     "output_type": "stream",
     "text": [
      "59/59 [==============================] - 92s 2s/step - loss: 0.5875 - accuracy: 0.8086\n",
      "\n",
      "Loss on the TEST Set: 0.587\n",
      "\n",
      "Accuracy on the TEST Set: 80.859%\n"
     ]
    }
   ],
   "source": [
    "EPOCHS = 25\n",
    "\n",
    "feature_extractor = hub.KerasLayer(pretrained_model, input_shape=(image_size, image_size,3))\n",
    "feature_extractor.trainable = False\n",
    "model = tf.keras.Sequential([\n",
    "        feature_extractor,\n",
    "        tf.keras.layers.Dense(num_classes, activation ='softmax')])\n",
    "    \n",
    "           \n",
    "model.compile(optimizer=tf.keras.optimizers.Adam(learning_rate=exp_lr_scheduler),\n",
    "              loss='sparse_categorical_crossentropy',\n",
    "              metrics=['accuracy'])\n",
    "        \n",
    "\n",
    "history = model.fit(training_batches,\n",
    "                    epochs = EPOCHS,\n",
    "                    validation_data=validation_batches) \n",
    "        \n",
    "\n",
    "        \n",
    "plotter(history)\n",
    "        \n",
    "loss, accuracy = model.evaluate(testing_batches)\n",
    "        \n",
    "       \n",
    "print('\\nLoss on the TEST Set: {:,.3f}'.format(loss))\n",
    "print('\\nAccuracy on the TEST Set: {:.3%}'.format(accuracy))\n",
    "        \n",
    "    "
   ]
  }
 ],
 "metadata": {
  "kernelspec": {
   "display_name": "Python 3",
   "language": "python",
   "name": "python3"
  },
  "language_info": {
   "codemirror_mode": {
    "name": "ipython",
    "version": 3
   },
   "file_extension": ".py",
   "mimetype": "text/x-python",
   "name": "python",
   "nbconvert_exporter": "python",
   "pygments_lexer": "ipython3",
   "version": "3.7.9"
  }
 },
 "nbformat": 4,
 "nbformat_minor": 4
}
