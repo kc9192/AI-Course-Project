{
 "cells": [
  {
   "cell_type": "markdown",
   "metadata": {},
   "source": [
    "# Cassava leaf with resnet and RMSprop"
   ]
  },
  {
   "cell_type": "markdown",
   "metadata": {},
   "source": [
    "## 1) Importing the libraries"
   ]
  },
  {
   "cell_type": "code",
   "execution_count": 1,
   "metadata": {},
   "outputs": [],
   "source": [
    "import matplotlib.pyplot as plt\n",
    "import numpy as np\n",
    "import tensorflow as tf\n",
    "import json\n",
    "import tensorflow_hub as hub\n",
    "import tensorflow_datasets as tfds\n",
    "tfds.disable_progress_bar()"
   ]
  },
  {
   "cell_type": "markdown",
   "metadata": {},
   "source": [
    "## 2) Loading and summarizing data and creating data pipelines"
   ]
  },
  {
   "cell_type": "code",
   "execution_count": 2,
   "metadata": {},
   "outputs": [],
   "source": [
    "data, dataset_info = tfds.load('cassava', split='train+test+validation', as_supervised = True, with_info = True)\n",
    "datalen = [i for i,_ in enumerate(data)][-1] + 1\n",
    "datalen\n",
    "\n",
    "train_split = int(0.6*datalen)\n",
    "test_val_split = int(0.2*datalen)\n",
    "test_val_split = int(0.2*datalen)\n",
    "\n",
    "training_set = data.take(train_split)\n",
    "test_set = data.skip(train_split)\n",
    "validation_set = test_set.skip(test_val_split)\n",
    "test_set = test_set.take(test_val_split)\n",
    "\n",
    "dataset=training_set,validation_set,test_set"
   ]
  },
  {
   "cell_type": "code",
   "execution_count": 3,
   "metadata": {},
   "outputs": [
    {
     "data": {
      "text/plain": [
       "tfds.core.DatasetInfo(\n",
       "    name='cassava',\n",
       "    version=0.1.0,\n",
       "    description='Cassava consists of leaf images for the cassava plant depicting healthy and\n",
       "four (4) disease conditions; Cassava Mosaic Disease (CMD), Cassava Bacterial\n",
       "Blight (CBB), Cassava Greem Mite (CGM) and Cassava Brown Streak Disease (CBSD).\n",
       "Dataset consists of a total of 9430 labelled images.\n",
       "The 9430 labelled images are split into a training set (5656), a test set(1885)\n",
       "and a validation set (1889). The number of images per class are unbalanced with\n",
       "the two disease classes CMD and CBSD having 72% of the images.',\n",
       "    homepage='https://www.kaggle.com/c/cassava-disease/overview',\n",
       "    features=FeaturesDict({\n",
       "        'image': Image(shape=(None, None, 3), dtype=tf.uint8),\n",
       "        'image/filename': Text(shape=(), dtype=tf.string),\n",
       "        'label': ClassLabel(shape=(), dtype=tf.int64, num_classes=5),\n",
       "    }),\n",
       "    total_num_examples=9430,\n",
       "    splits={\n",
       "        'test': 1885,\n",
       "        'train': 5656,\n",
       "        'validation': 1889,\n",
       "    },\n",
       "    supervised_keys=('image', 'label'),\n",
       "    citation=\"\"\"@misc{mwebaze2019icassava,\n",
       "        title={iCassava 2019Fine-Grained Visual Categorization Challenge},\n",
       "        author={Ernest Mwebaze and Timnit Gebru and Andrea Frome and Solomon Nsumba and Jeremy Tusubira},\n",
       "        year={2019},\n",
       "        eprint={1908.02900},\n",
       "        archivePrefix={arXiv},\n",
       "        primaryClass={cs.CV}\n",
       "    }\"\"\",\n",
       "    redistribution_info=,\n",
       ")"
      ]
     },
     "execution_count": 3,
     "metadata": {},
     "output_type": "execute_result"
    }
   ],
   "source": [
    "dataset_info"
   ]
  },
  {
   "cell_type": "markdown",
   "metadata": {},
   "source": [
    "### From the above datset_info we can see that the data is split into train, test and validation batches and each image has features like filename, label and image itself(255 pixels) which can be harnessed whenever needed"
   ]
  },
  {
   "cell_type": "code",
   "execution_count": 4,
   "metadata": {},
   "outputs": [
    {
     "name": "stdout",
     "output_type": "stream",
     "text": [
      "There are 5,658 images in the training set\n",
      "There are 1,886 images in the validation set\n",
      "There are 1,886 images in the test set\n",
      "There are 5 classes in our dataset\n"
     ]
    }
   ],
   "source": [
    "total_examples = dataset_info.splits['train'].num_examples + dataset_info.splits['test'].num_examples + dataset_info.splits['validation'].num_examples\n",
    "\n",
    "num_training_examples = train_split\n",
    "num_validation_examples = test_val_split\n",
    "num_test_examples = num_validation_examples\n",
    "\n",
    "print('There are {:,} images in the training set'.format(num_training_examples))\n",
    "print('There are {:,} images in the validation set'.format(num_validation_examples))\n",
    "print('There are {:,} images in the test set'.format(num_test_examples))\n",
    "\n",
    "num_classes = dataset_info.features['label'].num_classes\n",
    "print('There are {:,} classes in our dataset'.format(num_classes))"
   ]
  },
  {
   "cell_type": "code",
   "execution_count": 5,
   "metadata": {},
   "outputs": [],
   "source": [
    "def resize(image, label):\n",
    "    image = tf.cast(image, tf.float32)\n",
    "    image = tf.image.resize(image, [224,224], preserve_aspect_ratio=False)\n",
    "    image /= 255\n",
    "    return image, label\n",
    "\n",
    "batch_size = 32\n",
    "image_size = 224\n",
    "\n",
    "training_batches = training_set.cache().shuffle(num_training_examples//4).map(resize).batch(batch_size).prefetch(1)\n",
    "validation_batches = validation_set.cache().map(resize).batch(batch_size).prefetch(1)\n",
    "testing_batches = test_set.cache().map(resize).batch(batch_size).prefetch(1)"
   ]
  },
  {
   "cell_type": "markdown",
   "metadata": {},
   "source": [
    "## 3) Creating models, plots and test data evaluation"
   ]
  },
  {
   "cell_type": "code",
   "execution_count": 6,
   "metadata": {},
   "outputs": [],
   "source": [
    "pretrained_model = \"https://tfhub.dev/tensorflow/resnet_50/feature_vector/1\""
   ]
  },
  {
   "cell_type": "code",
   "execution_count": 7,
   "metadata": {},
   "outputs": [],
   "source": [
    "lr = 0.001\n",
    "\n",
    "decay_steps = 100000\n",
    "decay_rate = 0.95\n",
    "\n",
    "exp_lr_scheduler = tf.keras.optimizers.schedules.ExponentialDecay(lr, decay_steps, decay_rate)"
   ]
  },
  {
   "cell_type": "code",
   "execution_count": 8,
   "metadata": {},
   "outputs": [],
   "source": [
    "def plotter(history):\n",
    "    training_accuracy = history.history['accuracy']\n",
    "    validation_accuracy = history.history['val_accuracy']\n",
    " \n",
    "    training_loss = history.history['loss']\n",
    "    validation_loss = history.history['val_loss']\n",
    "\n",
    "    epochs_range=range(EPOCHS)\n",
    "\n",
    "    plt.figure(figsize=(8, 8))\n",
    "    plt.subplot(1, 2, 1)\n",
    "    plt.plot(epochs_range, training_accuracy, label='Training Accuracy')\n",
    "    plt.plot(epochs_range, validation_accuracy, label='Validation Accuracy')\n",
    "    plt.legend(loc='lower right')\n",
    "    plt.title('Training and Validation Accuracy')\n",
    "\n",
    "    plt.subplot(1, 2, 2)\n",
    "    plt.plot(epochs_range, training_loss, label='Training Loss')\n",
    "    plt.plot(epochs_range, validation_loss, label='Validation Loss')\n",
    "    plt.legend(loc='upper right')\n",
    "    plt.title('Training and Validation Loss')\n",
    "    plt.show()"
   ]
  },
  {
   "cell_type": "code",
   "execution_count": 9,
   "metadata": {},
   "outputs": [],
   "source": [
    "def summary_plot(pretrained_model,losses,accuracies):\n",
    "    plt.figure(figsize=(8, 8))\n",
    "    \n",
    "    plt.subplot(1, 2, 1)\n",
    "    plt.plot(all_optimizers, losses)\n",
    "    plt.xlabel(\"Gradient Descent Variants\")\n",
    "    plt.ylabel(\"Loss Values\")\n",
    "    plt.title('Testing Loss Summary')\n",
    "\n",
    "    plt.subplot(1, 2, 2)\n",
    "    plt.bar(all_optimizers, accuracies)\n",
    "    plt.xlabel(\"Gradient Descent Variants\")\n",
    "    plt.ylabel(\"Accuracy Values\")\n",
    "    plt.title('Testing Accuracy Summary')\n",
    "    \n",
    "    plt.show()\n",
    "    "
   ]
  },
  {
   "cell_type": "code",
   "execution_count": 10,
   "metadata": {},
   "outputs": [
    {
     "name": "stdout",
     "output_type": "stream",
     "text": [
      "Epoch 1/25\n",
      "177/177 [==============================] - 388s 2s/step - loss: 0.8805 - accuracy: 0.6773 - val_loss: 0.6985 - val_accuracy: 0.7434\n",
      "Epoch 2/25\n",
      "177/177 [==============================] - 384s 2s/step - loss: 0.6725 - accuracy: 0.7633 - val_loss: 0.6378 - val_accuracy: 0.7789\n",
      "Epoch 3/25\n",
      "177/177 [==============================] - 383s 2s/step - loss: 0.6078 - accuracy: 0.7884 - val_loss: 0.6427 - val_accuracy: 0.7715\n",
      "Epoch 4/25\n",
      "177/177 [==============================] - 387s 2s/step - loss: 0.5653 - accuracy: 0.7998 - val_loss: 0.6170 - val_accuracy: 0.7725\n",
      "Epoch 5/25\n",
      "177/177 [==============================] - 383s 2s/step - loss: 0.5258 - accuracy: 0.8187 - val_loss: 0.6067 - val_accuracy: 0.7810\n",
      "Epoch 6/25\n",
      "177/177 [==============================] - 380s 2s/step - loss: 0.5035 - accuracy: 0.8264 - val_loss: 0.6063 - val_accuracy: 0.7741\n",
      "Epoch 7/25\n",
      "177/177 [==============================] - 382s 2s/step - loss: 0.4816 - accuracy: 0.8349 - val_loss: 0.6791 - val_accuracy: 0.7566\n",
      "Epoch 8/25\n",
      "177/177 [==============================] - 376s 2s/step - loss: 0.4603 - accuracy: 0.8429 - val_loss: 0.6000 - val_accuracy: 0.7810\n",
      "Epoch 9/25\n",
      "177/177 [==============================] - 378s 2s/step - loss: 0.4434 - accuracy: 0.8468 - val_loss: 0.6311 - val_accuracy: 0.7842\n",
      "Epoch 10/25\n",
      "177/177 [==============================] - 377s 2s/step - loss: 0.4281 - accuracy: 0.8554 - val_loss: 0.6074 - val_accuracy: 0.7821\n",
      "Epoch 11/25\n",
      "177/177 [==============================] - 377s 2s/step - loss: 0.4134 - accuracy: 0.8590 - val_loss: 0.6145 - val_accuracy: 0.7815\n",
      "Epoch 12/25\n",
      "177/177 [==============================] - 377s 2s/step - loss: 0.3999 - accuracy: 0.8630 - val_loss: 0.6143 - val_accuracy: 0.7879\n",
      "Epoch 13/25\n",
      "177/177 [==============================] - 378s 2s/step - loss: 0.3882 - accuracy: 0.8683 - val_loss: 0.6775 - val_accuracy: 0.7572\n",
      "Epoch 14/25\n",
      "177/177 [==============================] - 380s 2s/step - loss: 0.3727 - accuracy: 0.8756 - val_loss: 0.6140 - val_accuracy: 0.7863\n",
      "Epoch 15/25\n",
      "177/177 [==============================] - 376s 2s/step - loss: 0.3662 - accuracy: 0.8789 - val_loss: 0.6333 - val_accuracy: 0.7847\n",
      "Epoch 16/25\n",
      "177/177 [==============================] - 378s 2s/step - loss: 0.3531 - accuracy: 0.8795 - val_loss: 0.6303 - val_accuracy: 0.7704\n",
      "Epoch 17/25\n",
      "177/177 [==============================] - 377s 2s/step - loss: 0.3464 - accuracy: 0.8865 - val_loss: 0.6484 - val_accuracy: 0.7805\n",
      "Epoch 18/25\n",
      "177/177 [==============================] - 378s 2s/step - loss: 0.3324 - accuracy: 0.8918 - val_loss: 0.6265 - val_accuracy: 0.7747\n",
      "Epoch 19/25\n",
      "177/177 [==============================] - 386s 2s/step - loss: 0.3321 - accuracy: 0.8932 - val_loss: 0.6950 - val_accuracy: 0.7492\n",
      "Epoch 20/25\n",
      "177/177 [==============================] - 405s 2s/step - loss: 0.3223 - accuracy: 0.8943 - val_loss: 0.6560 - val_accuracy: 0.7853\n",
      "Epoch 21/25\n",
      "177/177 [==============================] - 415s 2s/step - loss: 0.3130 - accuracy: 0.8978 - val_loss: 0.6564 - val_accuracy: 0.7831\n",
      "Epoch 22/25\n",
      "177/177 [==============================] - 416s 2s/step - loss: 0.3073 - accuracy: 0.8996 - val_loss: 0.6718 - val_accuracy: 0.7831\n",
      "Epoch 23/25\n",
      "177/177 [==============================] - 398s 2s/step - loss: 0.3003 - accuracy: 0.9054 - val_loss: 0.6448 - val_accuracy: 0.7837\n",
      "Epoch 24/25\n",
      "177/177 [==============================] - 390s 2s/step - loss: 0.2933 - accuracy: 0.9069 - val_loss: 0.6574 - val_accuracy: 0.7906\n",
      "Epoch 25/25\n",
      "177/177 [==============================] - 391s 2s/step - loss: 0.2880 - accuracy: 0.9049 - val_loss: 0.6915 - val_accuracy: 0.7805\n"
     ]
    },
    {
     "data": {
      "image/png": "[encoded data removed]",
      "text/plain": [
       "<Figure size 576x576 with 2 Axes>"
      ]
     },
     "metadata": {
      "needs_background": "light"
     },
     "output_type": "display_data"
    },
    {
     "name": "stdout",
     "output_type": "stream",
     "text": [
      "59/59 [==============================] - 98s 2s/step - loss: 0.6648 - accuracy: 0.7911\n",
      "\n",
      "Loss on the TEST Set: 0.665\n",
      "\n",
      "Accuracy on the TEST Set: 79.109%\n"
     ]
    }
   ],
   "source": [
    "EPOCHS = 25\n",
    "\n",
    "feature_extractor = hub.KerasLayer(pretrained_model, input_shape=(image_size, image_size,3))\n",
    "feature_extractor.trainable = False\n",
    "model = tf.keras.Sequential([\n",
    "        feature_extractor,\n",
    "        tf.keras.layers.Dense(num_classes, activation ='softmax')])\n",
    "    \n",
    "           \n",
    "model.compile(optimizer=tf.keras.optimizers.RMSprop(learning_rate=exp_lr_scheduler),\n",
    "              loss='sparse_categorical_crossentropy',\n",
    "              metrics=['accuracy'])\n",
    "        \n",
    "\n",
    "history = model.fit(training_batches,\n",
    "                    epochs = EPOCHS,\n",
    "                    validation_data=validation_batches) \n",
    "        \n",
    "\n",
    "        \n",
    "plotter(history)\n",
    "        \n",
    "loss, accuracy = model.evaluate(testing_batches)\n",
    "        \n",
    "       \n",
    "print('\\nLoss on the TEST Set: {:,.3f}'.format(loss))\n",
    "print('\\nAccuracy on the TEST Set: {:.3%}'.format(accuracy))\n",
    "        \n",
    "    "
   ]
  }
 ],
 "metadata": {
  "kernelspec": {
   "display_name": "Python 3",
   "language": "python",
   "name": "python3"
  },
  "language_info": {
   "codemirror_mode": {
    "name": "ipython",
    "version": 3
   },
   "file_extension": ".py",
   "mimetype": "text/x-python",
   "name": "python",
   "nbconvert_exporter": "python",
   "pygments_lexer": "ipython3",
   "version": "3.7.9"
  }
 },
 "nbformat": 4,
 "nbformat_minor": 4
}
