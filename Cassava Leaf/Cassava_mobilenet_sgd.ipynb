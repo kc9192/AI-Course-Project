{
 "cells": [
  {
   "cell_type": "markdown",
   "metadata": {},
   "source": [
    "# Cassava leaf with mobilenet and SGD"
   ]
  },
  {
   "cell_type": "markdown",
   "metadata": {},
   "source": [
    "## 1) Importing the libraries"
   ]
  },
  {
   "cell_type": "code",
   "execution_count": 1,
   "metadata": {},
   "outputs": [],
   "source": [
    "import matplotlib.pyplot as plt\n",
    "import numpy as np\n",
    "import tensorflow as tf\n",
    "import json\n",
    "import tensorflow_hub as hub\n",
    "import tensorflow_datasets as tfds\n",
    "tfds.disable_progress_bar()"
   ]
  },
  {
   "cell_type": "markdown",
   "metadata": {},
   "source": [
    "## 2) Loading and summarizing data and creating data pipelines"
   ]
  },
  {
   "cell_type": "code",
   "execution_count": 2,
   "metadata": {},
   "outputs": [],
   "source": [
    "data, dataset_info = tfds.load('cassava', split='train+test+validation', as_supervised = True, with_info = True)\n",
    "datalen = [i for i,_ in enumerate(data)][-1] + 1\n",
    "datalen\n",
    "\n",
    "train_split = int(0.6*datalen)\n",
    "test_val_split = int(0.2*datalen)\n",
    "test_val_split = int(0.2*datalen)\n",
    "\n",
    "training_set = data.take(train_split)\n",
    "test_set = data.skip(train_split)\n",
    "validation_set = test_set.skip(test_val_split)\n",
    "test_set = test_set.take(test_val_split)\n",
    "\n",
    "dataset=training_set,validation_set,test_set"
   ]
  },
  {
   "cell_type": "code",
   "execution_count": 3,
   "metadata": {},
   "outputs": [
    {
     "data": {
      "text/plain": [
       "tfds.core.DatasetInfo(\n",
       "    name='cassava',\n",
       "    version=0.1.0,\n",
       "    description='Cassava consists of leaf images for the cassava plant depicting healthy and\n",
       "four (4) disease conditions; Cassava Mosaic Disease (CMD), Cassava Bacterial\n",
       "Blight (CBB), Cassava Greem Mite (CGM) and Cassava Brown Streak Disease (CBSD).\n",
       "Dataset consists of a total of 9430 labelled images.\n",
       "The 9430 labelled images are split into a training set (5656), a test set(1885)\n",
       "and a validation set (1889). The number of images per class are unbalanced with\n",
       "the two disease classes CMD and CBSD having 72% of the images.',\n",
       "    homepage='https://www.kaggle.com/c/cassava-disease/overview',\n",
       "    features=FeaturesDict({\n",
       "        'image': Image(shape=(None, None, 3), dtype=tf.uint8),\n",
       "        'image/filename': Text(shape=(), dtype=tf.string),\n",
       "        'label': ClassLabel(shape=(), dtype=tf.int64, num_classes=5),\n",
       "    }),\n",
       "    total_num_examples=9430,\n",
       "    splits={\n",
       "        'test': 1885,\n",
       "        'train': 5656,\n",
       "        'validation': 1889,\n",
       "    },\n",
       "    supervised_keys=('image', 'label'),\n",
       "    citation=\"\"\"@misc{mwebaze2019icassava,\n",
       "        title={iCassava 2019Fine-Grained Visual Categorization Challenge},\n",
       "        author={Ernest Mwebaze and Timnit Gebru and Andrea Frome and Solomon Nsumba and Jeremy Tusubira},\n",
       "        year={2019},\n",
       "        eprint={1908.02900},\n",
       "        archivePrefix={arXiv},\n",
       "        primaryClass={cs.CV}\n",
       "    }\"\"\",\n",
       "    redistribution_info=,\n",
       ")"
      ]
     },
     "execution_count": 3,
     "metadata": {},
     "output_type": "execute_result"
    }
   ],
   "source": [
    "dataset_info"
   ]
  },
  {
   "cell_type": "markdown",
   "metadata": {},
   "source": [
    "### From the above datset_info we can see that the data is split into train, test and validation batches and each image has features like filename, label and image itself(255 pixels) which can be harnessed whenever needed"
   ]
  },
  {
   "cell_type": "code",
   "execution_count": 4,
   "metadata": {},
   "outputs": [
    {
     "name": "stdout",
     "output_type": "stream",
     "text": [
      "There are 5,658 images in the training set\n",
      "There are 1,886 images in the validation set\n",
      "There are 1,886 images in the test set\n",
      "There are 5 classes in our dataset\n"
     ]
    }
   ],
   "source": [
    "total_examples = dataset_info.splits['train'].num_examples + dataset_info.splits['test'].num_examples + dataset_info.splits['validation'].num_examples\n",
    "\n",
    "num_training_examples = train_split\n",
    "num_validation_examples = test_val_split\n",
    "num_test_examples = num_validation_examples\n",
    "\n",
    "print('There are {:,} images in the training set'.format(num_training_examples))\n",
    "print('There are {:,} images in the validation set'.format(num_validation_examples))\n",
    "print('There are {:,} images in the test set'.format(num_test_examples))\n",
    "\n",
    "num_classes = dataset_info.features['label'].num_classes\n",
    "print('There are {:,} classes in our dataset'.format(num_classes))"
   ]
  },
  {
   "cell_type": "code",
   "execution_count": 5,
   "metadata": {},
   "outputs": [],
   "source": [
    "def resize(image, label):\n",
    "    image = tf.cast(image, tf.float32)\n",
    "    image = tf.image.resize(image, [224,224], preserve_aspect_ratio=False)\n",
    "    image /= 255\n",
    "    return image, label\n",
    "\n",
    "batch_size = 32\n",
    "image_size = 224\n",
    "\n",
    "training_batches = training_set.cache().shuffle(num_training_examples//4).map(resize).batch(batch_size).prefetch(1)\n",
    "validation_batches = validation_set.cache().map(resize).batch(batch_size).prefetch(1)\n",
    "testing_batches = test_set.cache().map(resize).batch(batch_size).prefetch(1)"
   ]
  },
  {
   "cell_type": "markdown",
   "metadata": {},
   "source": [
    "## 3) Creating models, plots and test data evaluation"
   ]
  },
  {
   "cell_type": "code",
   "execution_count": 6,
   "metadata": {},
   "outputs": [],
   "source": [
    "pretrained_model = \"https://tfhub.dev/google/tf2-preview/mobilenet_v2/feature_vector/4\""
   ]
  },
  {
   "cell_type": "code",
   "execution_count": 7,
   "metadata": {},
   "outputs": [],
   "source": [
    "lr = 0.001\n",
    "\n",
    "decay_steps = 100000\n",
    "decay_rate = 0.95\n",
    "\n",
    "exp_lr_scheduler = tf.keras.optimizers.schedules.ExponentialDecay(lr, decay_steps, decay_rate)"
   ]
  },
  {
   "cell_type": "code",
   "execution_count": 8,
   "metadata": {},
   "outputs": [],
   "source": [
    "def plotter(history):\n",
    "    training_accuracy = history.history['accuracy']\n",
    "    validation_accuracy = history.history['val_accuracy']\n",
    " \n",
    "    training_loss = history.history['loss']\n",
    "    validation_loss = history.history['val_loss']\n",
    "\n",
    "    epochs_range=range(EPOCHS)\n",
    "\n",
    "    plt.figure(figsize=(8, 8))\n",
    "    plt.subplot(1, 2, 1)\n",
    "    plt.plot(epochs_range, training_accuracy, label='Training Accuracy')\n",
    "    plt.plot(epochs_range, validation_accuracy, label='Validation Accuracy')\n",
    "    plt.legend(loc='lower right')\n",
    "    plt.title('Training and Validation Accuracy')\n",
    "\n",
    "    plt.subplot(1, 2, 2)\n",
    "    plt.plot(epochs_range, training_loss, label='Training Loss')\n",
    "    plt.plot(epochs_range, validation_loss, label='Validation Loss')\n",
    "    plt.legend(loc='upper right')\n",
    "    plt.title('Training and Validation Loss')\n",
    "    plt.show()"
   ]
  },
  {
   "cell_type": "code",
   "execution_count": 9,
   "metadata": {},
   "outputs": [],
   "source": [
    "def summary_plot(pretrained_model,losses,accuracies):\n",
    "    plt.figure(figsize=(8, 8))\n",
    "    \n",
    "    plt.subplot(1, 2, 1)\n",
    "    plt.plot(all_optimizers, losses)\n",
    "    plt.xlabel(\"Gradient Descent Variants\")\n",
    "    plt.ylabel(\"Loss Values\")\n",
    "    plt.title('Testing Loss Summary')\n",
    "\n",
    "    plt.subplot(1, 2, 2)\n",
    "    plt.bar(all_optimizers, accuracies)\n",
    "    plt.xlabel(\"Gradient Descent Variants\")\n",
    "    plt.ylabel(\"Accuracy Values\")\n",
    "    plt.title('Testing Accuracy Summary')\n",
    "    \n",
    "    plt.show()\n",
    "    "
   ]
  },
  {
   "cell_type": "code",
   "execution_count": 10,
   "metadata": {},
   "outputs": [
    {
     "name": "stdout",
     "output_type": "stream",
     "text": [
      "Epoch 1/25\n",
      "177/177 [==============================] - 124s 701ms/step - loss: 1.3453 - accuracy: 0.4569 - val_loss: 1.2021 - val_accuracy: 0.5536\n",
      "Epoch 2/25\n",
      "177/177 [==============================] - 118s 668ms/step - loss: 1.1355 - accuracy: 0.5710 - val_loss: 1.0799 - val_accuracy: 0.5976\n",
      "Epoch 3/25\n",
      "177/177 [==============================] - 3821s 22s/step - loss: 1.0349 - accuracy: 0.6166 - val_loss: 1.0027 - val_accuracy: 0.6230\n",
      "Epoch 4/25\n",
      "177/177 [==============================] - 127s 715ms/step - loss: 0.9694 - accuracy: 0.6414 - val_loss: 0.9521 - val_accuracy: 0.6379\n",
      "Epoch 5/25\n",
      "177/177 [==============================] - 115s 652ms/step - loss: 0.9240 - accuracy: 0.6603 - val_loss: 0.9157 - val_accuracy: 0.6479\n",
      "Epoch 6/25\n",
      "177/177 [==============================] - 110s 623ms/step - loss: 0.8915 - accuracy: 0.6750 - val_loss: 0.8891 - val_accuracy: 0.6601\n",
      "Epoch 7/25\n",
      "177/177 [==============================] - 113s 641ms/step - loss: 0.8655 - accuracy: 0.6858 - val_loss: 0.8653 - val_accuracy: 0.6617\n",
      "Epoch 8/25\n",
      "177/177 [==============================] - 117s 659ms/step - loss: 0.8452 - accuracy: 0.6964 - val_loss: 0.8477 - val_accuracy: 0.6707\n",
      "Epoch 9/25\n",
      "177/177 [==============================] - 118s 667ms/step - loss: 0.8273 - accuracy: 0.6995 - val_loss: 0.8356 - val_accuracy: 0.6845\n",
      "Epoch 10/25\n",
      "177/177 [==============================] - 118s 666ms/step - loss: 0.8138 - accuracy: 0.7080 - val_loss: 0.8202 - val_accuracy: 0.6829\n",
      "Epoch 11/25\n",
      "177/177 [==============================] - 114s 644ms/step - loss: 0.8002 - accuracy: 0.7147 - val_loss: 0.8110 - val_accuracy: 0.6893\n",
      "Epoch 12/25\n",
      "177/177 [==============================] - 115s 652ms/step - loss: 0.7900 - accuracy: 0.7174 - val_loss: 0.8003 - val_accuracy: 0.6930\n",
      "Epoch 13/25\n",
      "177/177 [==============================] - 116s 654ms/step - loss: 0.7803 - accuracy: 0.7185 - val_loss: 0.7906 - val_accuracy: 0.6909\n",
      "Epoch 14/25\n",
      "177/177 [==============================] - 118s 666ms/step - loss: 0.7706 - accuracy: 0.7234 - val_loss: 0.7857 - val_accuracy: 0.6983\n",
      "Epoch 15/25\n",
      "177/177 [==============================] - 117s 663ms/step - loss: 0.7631 - accuracy: 0.7243 - val_loss: 0.7768 - val_accuracy: 0.6978\n",
      "Epoch 16/25\n",
      "177/177 [==============================] - 117s 664ms/step - loss: 0.7555 - accuracy: 0.7282 - val_loss: 0.7690 - val_accuracy: 0.7004\n",
      "Epoch 17/25\n",
      "177/177 [==============================] - 118s 669ms/step - loss: 0.7491 - accuracy: 0.7285 - val_loss: 0.7639 - val_accuracy: 0.7020\n",
      "Epoch 18/25\n",
      "177/177 [==============================] - 116s 654ms/step - loss: 0.7431 - accuracy: 0.7324 - val_loss: 0.7583 - val_accuracy: 0.7063\n",
      "Epoch 19/25\n",
      "177/177 [==============================] - 119s 673ms/step - loss: 0.7369 - accuracy: 0.7363 - val_loss: 0.7562 - val_accuracy: 0.7078\n",
      "Epoch 20/25\n",
      "177/177 [==============================] - 117s 662ms/step - loss: 0.7317 - accuracy: 0.7381 - val_loss: 0.7492 - val_accuracy: 0.7089\n",
      "Epoch 21/25\n",
      "177/177 [==============================] - 114s 643ms/step - loss: 0.7265 - accuracy: 0.7395 - val_loss: 0.7500 - val_accuracy: 0.7131\n",
      "Epoch 22/25\n",
      "177/177 [==============================] - 110s 622ms/step - loss: 0.7222 - accuracy: 0.7416 - val_loss: 0.7426 - val_accuracy: 0.7131\n",
      "Epoch 23/25\n",
      "177/177 [==============================] - 107s 607ms/step - loss: 0.7173 - accuracy: 0.7439 - val_loss: 0.7375 - val_accuracy: 0.7153\n",
      "Epoch 24/25\n",
      "177/177 [==============================] - 110s 620ms/step - loss: 0.7128 - accuracy: 0.7455 - val_loss: 0.7330 - val_accuracy: 0.7169\n",
      "Epoch 25/25\n",
      "177/177 [==============================] - 114s 644ms/step - loss: 0.7091 - accuracy: 0.7453 - val_loss: 0.7300 - val_accuracy: 0.7195\n"
     ]
    },
    {
     "data": {
      "image/png": "[encoded data removed]",
      "text/plain": [
       "<Figure size 576x576 with 2 Axes>"
      ]
     },
     "metadata": {
      "needs_background": "light"
     },
     "output_type": "display_data"
    },
    {
     "name": "stdout",
     "output_type": "stream",
     "text": [
      "59/59 [==============================] - 30s 513ms/step - loss: 0.7299 - accuracy: 0.7275\n",
      "\n",
      "Loss on the TEST Set: 0.730\n",
      "\n",
      "Accuracy on the TEST Set: 72.747%\n"
     ]
    }
   ],
   "source": [
    "EPOCHS = 25\n",
    "\n",
    "feature_extractor = hub.KerasLayer(pretrained_model, input_shape=(image_size, image_size,3))\n",
    "feature_extractor.trainable = False\n",
    "model = tf.keras.Sequential([\n",
    "        feature_extractor,\n",
    "        tf.keras.layers.Dense(num_classes, activation ='softmax')])\n",
    "    \n",
    "           \n",
    "model.compile(optimizer=tf.keras.optimizers.SGD(learning_rate=exp_lr_scheduler),\n",
    "              loss='sparse_categorical_crossentropy',\n",
    "              metrics=['accuracy'])\n",
    "        \n",
    "\n",
    "history = model.fit(training_batches,\n",
    "                    epochs = EPOCHS,\n",
    "                    validation_data=validation_batches) \n",
    "        \n",
    "\n",
    "        \n",
    "plotter(history)\n",
    "        \n",
    "loss, accuracy = model.evaluate(testing_batches)\n",
    "        \n",
    "       \n",
    "print('\\nLoss on the TEST Set: {:,.3f}'.format(loss))\n",
    "print('\\nAccuracy on the TEST Set: {:.3%}'.format(accuracy))\n",
    "        \n",
    "    "
   ]
  }
 ],
 "metadata": {
  "kernelspec": {
   "display_name": "Python 3",
   "language": "python",
   "name": "python3"
  },
  "language_info": {
   "codemirror_mode": {
    "name": "ipython",
    "version": 3
   },
   "file_extension": ".py",
   "mimetype": "text/x-python",
   "name": "python",
   "nbconvert_exporter": "python",
   "pygments_lexer": "ipython3",
   "version": "3.7.9"
  }
 },
 "nbformat": 4,
 "nbformat_minor": 4
}
